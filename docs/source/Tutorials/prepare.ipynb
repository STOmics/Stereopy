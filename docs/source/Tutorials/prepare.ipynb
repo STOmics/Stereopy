{
 "cells": [
  {
   "attachments": {},
   "cell_type": "markdown",
   "metadata": {
    "pycharm": {
     "name": "#%% md\n"
    }
   },
   "source": [
    "# Preparation \n",
    "\n",
    "Before **Cell Segmentation**, **Tissue Segmentation** or generating **mask file** from **ssDNA image** on **Cell Correction**, you need to install some necessary modules.  \n",
    "\n",
    "These modules include tensorflow,torch,torchvision and albumentations, you can install these modules by running the commands below:  \n",
    "> &ensp;&ensp; **pip install tensorflow==2.7.0**  \n",
    "> &ensp;&ensp; **pip install torch==1.10.0**  \n",
    "> &ensp;&ensp; **pip install torchvision==0.11.1**  \n",
    "> &ensp;&ensp; **pip install albumentations==0.4.6**"
   ]
  },
  {
   "cell_type": "markdown",
   "metadata": {},
   "source": []
  }
 ],
 "metadata": {
  "kernelspec": {
   "display_name": "Python 3",
   "language": "python",
   "name": "python3"
  },
  "language_info": {
   "name": "python",
   "version": "3.6.2 (v3.6.2:5fd33b5, Jul  8 2017, 04:57:36) [MSC v.1900 64 bit (AMD64)]"
  },
  "vscode": {
   "interpreter": {
    "hash": "70dbeb2a90198859cd91b6ea0f3adc73d66939fe301617b631d99dfc954c0323"
   }
  }
 },
 "nbformat": 4,
 "nbformat_minor": 2
}
