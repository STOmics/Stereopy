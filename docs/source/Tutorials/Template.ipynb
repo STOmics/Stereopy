{
 "cells": [
  {
   "cell_type": "markdown",
   "id": "338bb666",
   "metadata": {},
   "source": [
    "# Title"
   ]
  },
  {
   "cell_type": "markdown",
   "id": "db87376e",
   "metadata": {},
   "source": [
    "**Paragraph 1** : introduction of the analysis tool and algorithms."
   ]
  },
  {
   "cell_type": "code",
   "execution_count": null,
   "id": "54dd7fd2",
   "metadata": {},
   "outputs": [],
   "source": [
    "import stereo as st\n",
    "\n",
    "# Other necessary imports  "
   ]
  },
  {
   "cell_type": "markdown",
   "id": "705551b7",
   "metadata": {},
   "source": [
    "## Demo Data "
   ]
  },
  {
   "cell_type": "markdown",
   "id": "41afb5d4",
   "metadata": {},
   "source": [
    "**Paragraph 2** : description of demo data, including but not limited to species, tissue, related paper, etc."
   ]
  },
  {
   "cell_type": "code",
   "execution_count": null,
   "id": "c63f8d60",
   "metadata": {},
   "outputs": [],
   "source": [
    "# option 1 : upload data to our demo library\n",
    "# option 2 : offer a public URL for download"
   ]
  },
  {
   "cell_type": "markdown",
   "id": "fa1a0247",
   "metadata": {},
   "source": [
    "## Perform Function "
   ]
  },
  {
   "cell_type": "markdown",
   "id": "8cae7b1b",
   "metadata": {},
   "source": [
    "**Paragraph 3** : main steps to perform the function."
   ]
  },
  {
   "cell_type": "code",
   "execution_count": null,
   "id": "dcfaee82",
   "metadata": {},
   "outputs": [],
   "source": [
    "# preoprocessing \n",
    "data.tl.cal_qc()\n",
    "data.tl.filter_genes()\n",
    "...\n",
    "\n",
    "# clustering\n",
    "data.tl.pca()\n",
    "data.tl.neighbors()\n",
    "data.tl.umap()\n",
    "data.tl.leiden()\n",
    "...\n",
    "\n",
    "# seprating preprocessing and clustering from the whole script cell would be a better choice\n",
    "\n",
    "# run function\n",
    "data.tl.target_function(\n",
    "        parameter1 = number1,\n",
    "        parameter2 = string1,\n",
    "         ...\n",
    "        )"
   ]
  },
  {
   "cell_type": "markdown",
   "id": "0e124744",
   "metadata": {},
   "source": [
    "## Display Results [optional]"
   ]
  },
  {
   "cell_type": "markdown",
   "id": "7472fd83",
   "metadata": {},
   "source": [
    "**Paragraph 4** : display dimensions and meaning of output data."
   ]
  },
  {
   "cell_type": "code",
   "execution_count": null,
   "id": "c7fe4f1b",
   "metadata": {},
   "outputs": [],
   "source": [
    "# data.cells.to_df()\n",
    "# data.genes.to_df()\n",
    "# data.tl.result\n",
    "# ..."
   ]
  },
  {
   "cell_type": "markdown",
   "id": "890dc6b4",
   "metadata": {},
   "source": [
    "## Visualization [optional]"
   ]
  },
  {
   "cell_type": "markdown",
   "id": "5b56796e",
   "metadata": {},
   "source": [
    "**Paragraph 5** : interpret the static or interactive plots."
   ]
  },
  {
   "cell_type": "code",
   "execution_count": null,
   "id": "771e0d01",
   "metadata": {},
   "outputs": [],
   "source": [
    "# data.plt.target_plotting_method()"
   ]
  },
  {
   "cell_type": "markdown",
   "id": "e4d4bc59",
   "metadata": {},
   "source": [
    "<div class=\"alert alert-info\">\n",
    "\n",
    "**Note**\n",
    "\n",
    "Detailed and elaborate introduction.\n",
    "\n",
    "</div>"
   ]
  },
  {
   "cell_type": "markdown",
   "id": "57f2a526",
   "metadata": {},
   "source": [
    "<div class=\"alert alert-warning\">\n",
    "\n",
    "**Attention**\n",
    "\n",
    "Highlight information.\n",
    "\n",
    "</div>"
   ]
  },
  {
   "cell_type": "markdown",
   "id": "51a394ce",
   "metadata": {},
   "source": [
    "<div class=\"alert alert-warning\">\n",
    "\n",
    "**Warning**\n",
    "\n",
    "Warning notification of the special scenario, error or something related.\n",
    "\n",
    "</div>"
   ]
  },
  {
   "cell_type": "markdown",
   "id": "95363fd4",
   "metadata": {},
   "source": [
    "<div class=\"alert alert-info\">\n",
    "\n",
    "**More**\n",
    "\n",
    "Link to another part.\n",
    "\n",
    "</div>"
   ]
  }
 ],
 "metadata": {
  "kernelspec": {
   "display_name": "sc",
   "language": "python",
   "name": "sc"
  },
  "language_info": {
   "codemirror_mode": {
    "name": "ipython",
    "version": 3
   },
   "file_extension": ".py",
   "mimetype": "text/x-python",
   "name": "python",
   "nbconvert_exporter": "python",
   "pygments_lexer": "ipython3",
   "version": "3.8.15"
  }
 },
 "nbformat": 4,
 "nbformat_minor": 5
}
