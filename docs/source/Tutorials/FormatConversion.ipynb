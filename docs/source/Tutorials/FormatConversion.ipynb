{
 "cells": [
  {
   "cell_type": "markdown",
   "id": "7aebcdc1",
   "metadata": {},
   "source": [
    "# Format Conversion"
   ]
  },
  {
   "cell_type": "markdown",
   "id": "106316f4",
   "metadata": {},
   "source": [
    "This section introduces how to do format conversion, so that you can work with other spatial tools while using Stereopy."
   ]
  },
  {
   "cell_type": "markdown",
   "id": "4dd89129",
   "metadata": {},
   "source": [
    "## Working with Scanpy"
   ]
  },
  {
   "cell_type": "markdown",
   "id": "90f184f0",
   "metadata": {},
   "source": [
    "IO module provides the function `stereo.io.stereo_to_anndata` to convert the StereoExpData into Anndata and output the corresponding h5ad file(.h5ad)."
   ]
  },
  {
   "cell_type": "markdown",
   "id": "5fbad2ff",
   "metadata": {},
   "source": [
    "#### StereoExpData into Anndata"
   ]
  },
  {
   "cell_type": "code",
   "execution_count": null,
   "id": "54a8af2f",
   "metadata": {},
   "outputs": [],
   "source": [
    "import stereo as st\n",
    "import warnings\n",
    "warnings.filterwarnings('ignore')\n",
    "\n",
    "# read the GEF file\n",
    "mouse_data_path = './SS200000135TL_D1.tissue.gef'\n",
    "data = st.io.read_gef(file_path=mouse_data_path, bin_size=50)\n",
    "\n",
    "# remember to set flavor as seurat \n",
    "adata = st.io.stereo_to_anndata(data,flavor='scanpy',output='scanpy_out.h5ad')"
   ]
  },
  {
   "cell_type": "markdown",
   "id": "9d242f95",
   "metadata": {},
   "source": [
    "## Working with Seurat"
   ]
  },
  {
   "cell_type": "markdown",
   "id": "413aedfd",
   "metadata": {},
   "source": [
    "#### StereoExpData to Anndata"
   ]
  },
  {
   "cell_type": "markdown",
   "id": "1fe92781",
   "metadata": {},
   "source": [
    "If you want to get the normalizetion result and convert the output_h5ad into the `.rds` file, you need to save raw data before using normalization. Otherwise, it will raise errors during conversion. The example mainly includes two steps:"
   ]
  },
  {
   "cell_type": "code",
   "execution_count": null,
   "id": "281eac2a",
   "metadata": {},
   "outputs": [],
   "source": [
    "import stereo as st\n",
    "import warnings\n",
    "warnings.filterwarnings('ignore')\n",
    "\n",
    "# read the GEF file\n",
    "mouse_data_path = './S200000135TL_D1.tissue.gef'\n",
    "data = st.io.read_gef(file_path=mouse_data_path, bin_size=50)\n",
    "\n",
    "# remember to set flavor as seurat \n",
    "adata = st.io.stereo_to_anndata(data,flavor='seurat',output='seurat_out.h5ad')"
   ]
  },
  {
   "cell_type": "markdown",
   "id": "aac977b9",
   "metadata": {},
   "source": [
    "#### H5ad to RDS"
   ]
  },
  {
   "cell_type": "markdown",
   "id": "8459f063",
   "metadata": {},
   "source": [
    "The output h5ad could be converted into rds file by annh5ad2rds.R.**(link)** So that you could use the h5ad file of Seurat from the last step to generate a rds file."
   ]
  },
  {
   "cell_type": "markdown",
   "id": "a837ebee",
   "metadata": {},
   "source": [
    "Run this command line in your own R environment:"
   ]
  },
  {
   "cell_type": "code",
   "execution_count": null,
   "id": "a61c631f",
   "metadata": {},
   "outputs": [],
   "source": [
    "Rscript annh5ad2rds.R --infile <h5ad file> --outfile <rds file>"
   ]
  }
 ],
 "metadata": {
  "kernelspec": {
   "display_name": "Python 3",
   "language": "python",
   "name": "python3"
  },
  "language_info": {
   "codemirror_mode": {
    "name": "ipython",
    "version": 3
   },
   "file_extension": ".py",
   "mimetype": "text/x-python",
   "name": "python",
   "nbconvert_exporter": "python",
   "pygments_lexer": "ipython3",
   "version": "3.6.2 (v3.6.2:5fd33b5, Jul  8 2017, 04:57:36) [MSC v.1900 64 bit (AMD64)]"
  },
  "vscode": {
   "interpreter": {
    "hash": "70dbeb2a90198859cd91b6ea0f3adc73d66939fe301617b631d99dfc954c0323"
   }
  }
 },
 "nbformat": 4,
 "nbformat_minor": 5
}
