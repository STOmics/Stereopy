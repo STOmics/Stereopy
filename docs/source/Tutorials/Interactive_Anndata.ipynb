{
 "cells": [
  {
   "cell_type": "markdown",
   "id": "d230e8e2",
   "metadata": {},
   "source": [
    "# StereoExpData Based on AnnData"
   ]
  },
  {
   "attachments": {},
   "cell_type": "markdown",
   "id": "8f04cd10",
   "metadata": {},
   "source": [
    "`AnnData` is widely used in bioinformatic software because of its highly compatible design and efficient functions, further information in [AnnData Docs](https://anndata.readthedocs.io/en/latest/tutorials/notebooks/getting-started.html)"
   ]
  },
  {
   "cell_type": "markdown",
   "id": "88205659",
   "metadata": {},
   "source": [
    "## AnnBasedStereoExpData"
   ]
  },
  {
   "cell_type": "markdown",
   "id": "676b59a9",
   "metadata": {},
   "source": [
    "To meet the needs of more users, we integrate `AnnData` functionality into `StereoExpData` through adapter mode."
   ]
  },
  {
   "attachments": {},
   "cell_type": "markdown",
   "id": "ad08c238",
   "metadata": {},
   "source": [
    "Read `.h5ad` file into `AnnBasedStereoExpData`."
   ]
  },
  {
   "cell_type": "code",
   "execution_count": 70,
   "id": "04d1f1d2",
   "metadata": {},
   "outputs": [],
   "source": [
    "improt stereo as st\n",
    "\n",
    "data = st.io.read_h5ad('./SS200000135TL_D1_script_res_gem.h5ad')"
   ]
  },
  {
   "cell_type": "markdown",
   "id": "f6d52b34",
   "metadata": {},
   "source": [
    "Show `AnnData` infomation."
   ]
  },
  {
   "cell_type": "code",
   "execution_count": 71,
   "id": "f517a3d8",
   "metadata": {},
   "outputs": [
    {
     "data": {
      "text/plain": [
       "AnnData object with n_obs × n_vars = 2316 × 25523\n",
       "    obs: 'n_genes_by_counts', 'total_counts', 'total_counts_mt', 'pct_counts_mt', 'leiden'\n",
       "    var: 'mt', 'n_cells_by_counts', 'mean_counts', 'pct_dropout_by_counts', 'total_counts', 'highly_variable', 'means', 'dispersions', 'dispersions_norm', 'mean', 'std'\n",
       "    uns: 'hvg', 'leiden', 'neighbors', 'pca', 'umap'\n",
       "    obsm: 'X_pca', 'X_umap', 'spatial'\n",
       "    varm: 'PCs'\n",
       "    obsp: 'connectivities', 'distances'"
      ]
     },
     "execution_count": 71,
     "metadata": {},
     "output_type": "execute_result"
    }
   ],
   "source": [
    "data._ann_data"
   ]
  },
  {
   "cell_type": "markdown",
   "id": "12399a29",
   "metadata": {},
   "source": [
    "And we automatically index `data.exp_matrix` to `data._ann_data.X`, which means you can read a `.h5ad` file and use it as `StereoExpData`."
   ]
  },
  {
   "cell_type": "code",
   "execution_count": 72,
   "id": "3616a659",
   "metadata": {},
   "outputs": [
    {
     "data": {
      "text/plain": [
       "True"
      ]
     },
     "execution_count": 72,
     "metadata": {},
     "output_type": "execute_result"
    }
   ],
   "source": [
    "data.exp_matrix is data._ann_data.X"
   ]
  },
  {
   "cell_type": "markdown",
   "id": "90309d79",
   "metadata": {},
   "source": [
    "## Supported StereoExpData Features"
   ]
  },
  {
   "attachments": {},
   "cell_type": "markdown",
   "id": "066fa721",
   "metadata": {},
   "source": [
    "* exp_matrix: `_ann_data.X`\n",
    "* postion `_ann.uns`\n",
    "* cells: `_ann_data.obs`\n",
    "* genes: `_ann_data.var`"
   ]
  },
  {
   "cell_type": "markdown",
   "id": "dbde4899",
   "metadata": {},
   "source": [
    "## Supported StereoExpData Functions"
   ]
  },
  {
   "cell_type": "markdown",
   "id": "cb340d08",
   "metadata": {},
   "source": [
    "Most tools and plot functions are supported."
   ]
  },
  {
   "cell_type": "code",
   "execution_count": 73,
   "id": "b3abdcec",
   "metadata": {},
   "outputs": [
    {
     "name": "stdout",
     "output_type": "stream",
     "text": [
      "\tcompleted  0  /  500 epochs\n",
      "\tcompleted  50  /  500 epochs\n",
      "\tcompleted  100  /  500 epochs\n",
      "\tcompleted  150  /  500 epochs\n",
      "\tcompleted  200  /  500 epochs\n",
      "\tcompleted  250  /  500 epochs\n",
      "\tcompleted  300  /  500 epochs\n",
      "\tcompleted  350  /  500 epochs\n",
      "\tcompleted  400  /  500 epochs\n",
      "\tcompleted  450  /  500 epochs\n"
     ]
    }
   ],
   "source": [
    "data.tl.cal_qc()\n",
    "data.tl.raw_checkpoint()\n",
    "data.tl.normalize_total(target_sum=1e4)\n",
    "data.tl.log1p()\n",
    "data.tl.highly_variable_genes(min_mean=0.0125, max_mean=3, min_disp=0.5, res_key='highly_variable_genes', n_top_genes=None)\n",
    "data.tl.pca(use_highly_genes=True, hvg_res_key='highly_variable_genes', n_pcs=20, res_key='pca_test', svd_solver='arpack')\n",
    "data.tl.neighbors(pca_res_key='pca_test', n_pcs=30, res_key='neighbors_test', n_jobs=8)\n",
    "data.tl.umap(pca_res_key='pca_test', neighbors_res_key='neighbors_test', res_key='umap_test', init_pos='spectral')\n",
    "data.tl.leiden(neighbors_res_key='neighbors_test', res_key='leiden_test')"
   ]
  },
  {
   "attachments": {},
   "cell_type": "markdown",
   "id": "e245359f",
   "metadata": {},
   "source": [
    "See what self-defined results have been written to `_ann_data`. "
   ]
  },
  {
   "cell_type": "code",
   "execution_count": 74,
   "id": "f46697e7",
   "metadata": {},
   "outputs": [
    {
     "data": {
      "text/plain": [
       "AnnData object with n_obs × n_vars = 2316 × 25523\n",
       "    obs: 'n_genes_by_counts', 'total_counts', 'total_counts_mt', 'pct_counts_mt', 'leiden', 'leiden_test'\n",
       "    var: 'mt', 'n_cells_by_counts', 'mean_counts', 'pct_dropout_by_counts', 'total_counts', 'highly_variable', 'means', 'dispersions', 'dispersions_norm', 'mean', 'std'\n",
       "    uns: 'hvg', 'leiden', 'neighbors', 'pca', 'umap', 'highly_variable_genes', 'pca_test', 'neighbors_test', 'umap_test', 'leiden_test'\n",
       "    obsm: 'X_pca', 'X_umap', 'spatial', 'X_pca_test', 'X_umap_test'\n",
       "    varm: 'PCs'\n",
       "    obsp: 'connectivities', 'distances', 'neighbors_test_connectivities', 'neighbors_test_distances'"
      ]
     },
     "execution_count": 74,
     "metadata": {},
     "output_type": "execute_result"
    }
   ],
   "source": [
    "data._ann_data"
   ]
  },
  {
   "attachments": {},
   "cell_type": "markdown",
   "id": "b6ccf279",
   "metadata": {},
   "source": [
    "Get a new column `leiden_test` after `leiden`, which could be displayed through `_ann_data.obs` or `cells`."
   ]
  },
  {
   "cell_type": "code",
   "execution_count": 75,
   "id": "124b08b3",
   "metadata": {},
   "outputs": [
    {
     "data": {
      "text/html": [
       "<div>\n",
       "<style scoped>\n",
       "    .dataframe tbody tr th:only-of-type {\n",
       "        vertical-align: middle;\n",
       "    }\n",
       "\n",
       "    .dataframe tbody tr th {\n",
       "        vertical-align: top;\n",
       "    }\n",
       "\n",
       "    .dataframe thead th {\n",
       "        text-align: right;\n",
       "    }\n",
       "</style>\n",
       "<table border=\"1\" class=\"dataframe\">\n",
       "  <thead>\n",
       "    <tr style=\"text-align: right;\">\n",
       "      <th></th>\n",
       "      <th>n_genes_by_counts</th>\n",
       "      <th>total_counts</th>\n",
       "      <th>total_counts_mt</th>\n",
       "      <th>pct_counts_mt</th>\n",
       "      <th>leiden</th>\n",
       "      <th>leiden_test</th>\n",
       "    </tr>\n",
       "  </thead>\n",
       "  <tbody>\n",
       "    <tr>\n",
       "      <th>16-47</th>\n",
       "      <td>2331</td>\n",
       "      <td>9597.581055</td>\n",
       "      <td>142.0</td>\n",
       "      <td>0.471203</td>\n",
       "      <td>6</td>\n",
       "      <td>8</td>\n",
       "    </tr>\n",
       "    <tr>\n",
       "      <th>16-48</th>\n",
       "      <td>4612</td>\n",
       "      <td>11983.083984</td>\n",
       "      <td>685.0</td>\n",
       "      <td>0.469797</td>\n",
       "      <td>6</td>\n",
       "      <td>3</td>\n",
       "    </tr>\n",
       "    <tr>\n",
       "      <th>16-49</th>\n",
       "      <td>803</td>\n",
       "      <td>5191.250488</td>\n",
       "      <td>45.0</td>\n",
       "      <td>0.819007</td>\n",
       "      <td>6</td>\n",
       "      <td>8</td>\n",
       "    </tr>\n",
       "    <tr>\n",
       "      <th>17-47</th>\n",
       "      <td>3352</td>\n",
       "      <td>11328.244141</td>\n",
       "      <td>268.0</td>\n",
       "      <td>0.388805</td>\n",
       "      <td>6</td>\n",
       "      <td>8</td>\n",
       "    </tr>\n",
       "    <tr>\n",
       "      <th>17-48</th>\n",
       "      <td>5657</td>\n",
       "      <td>12873.247070</td>\n",
       "      <td>828.0</td>\n",
       "      <td>0.441474</td>\n",
       "      <td>6</td>\n",
       "      <td>3</td>\n",
       "    </tr>\n",
       "    <tr>\n",
       "      <th>...</th>\n",
       "      <td>...</td>\n",
       "      <td>...</td>\n",
       "      <td>...</td>\n",
       "      <td>...</td>\n",
       "      <td>...</td>\n",
       "      <td>...</td>\n",
       "    </tr>\n",
       "    <tr>\n",
       "      <th>67-55</th>\n",
       "      <td>791</td>\n",
       "      <td>5382.013184</td>\n",
       "      <td>63.0</td>\n",
       "      <td>0.955790</td>\n",
       "      <td>6</td>\n",
       "      <td>8</td>\n",
       "    </tr>\n",
       "    <tr>\n",
       "      <th>67-56</th>\n",
       "      <td>821</td>\n",
       "      <td>5625.035645</td>\n",
       "      <td>42.0</td>\n",
       "      <td>0.766030</td>\n",
       "      <td>6</td>\n",
       "      <td>8</td>\n",
       "    </tr>\n",
       "    <tr>\n",
       "      <th>67-57</th>\n",
       "      <td>820</td>\n",
       "      <td>5590.018555</td>\n",
       "      <td>37.0</td>\n",
       "      <td>0.840400</td>\n",
       "      <td>6</td>\n",
       "      <td>8</td>\n",
       "    </tr>\n",
       "    <tr>\n",
       "      <th>67-58</th>\n",
       "      <td>238</td>\n",
       "      <td>2333.927246</td>\n",
       "      <td>5.0</td>\n",
       "      <td>1.337509</td>\n",
       "      <td>6</td>\n",
       "      <td>8</td>\n",
       "    </tr>\n",
       "    <tr>\n",
       "      <th>67-59</th>\n",
       "      <td>501</td>\n",
       "      <td>4029.682861</td>\n",
       "      <td>10.0</td>\n",
       "      <td>0.737275</td>\n",
       "      <td>6</td>\n",
       "      <td>8</td>\n",
       "    </tr>\n",
       "  </tbody>\n",
       "</table>\n",
       "<p>2316 rows × 6 columns</p>\n",
       "</div>"
      ],
      "text/plain": [
       "       n_genes_by_counts  total_counts  total_counts_mt  pct_counts_mt leiden  \\\n",
       "16-47               2331   9597.581055            142.0       0.471203      6   \n",
       "16-48               4612  11983.083984            685.0       0.469797      6   \n",
       "16-49                803   5191.250488             45.0       0.819007      6   \n",
       "17-47               3352  11328.244141            268.0       0.388805      6   \n",
       "17-48               5657  12873.247070            828.0       0.441474      6   \n",
       "...                  ...           ...              ...            ...    ...   \n",
       "67-55                791   5382.013184             63.0       0.955790      6   \n",
       "67-56                821   5625.035645             42.0       0.766030      6   \n",
       "67-57                820   5590.018555             37.0       0.840400      6   \n",
       "67-58                238   2333.927246              5.0       1.337509      6   \n",
       "67-59                501   4029.682861             10.0       0.737275      6   \n",
       "\n",
       "      leiden_test  \n",
       "16-47           8  \n",
       "16-48           3  \n",
       "16-49           8  \n",
       "17-47           8  \n",
       "17-48           3  \n",
       "...           ...  \n",
       "67-55           8  \n",
       "67-56           8  \n",
       "67-57           8  \n",
       "67-58           8  \n",
       "67-59           8  \n",
       "\n",
       "[2316 rows x 6 columns]"
      ]
     },
     "execution_count": 75,
     "metadata": {},
     "output_type": "execute_result"
    }
   ],
   "source": [
    "data._ann_data.obs"
   ]
  },
  {
   "attachments": {},
   "cell_type": "markdown",
   "id": "955e82d4",
   "metadata": {},
   "source": [
    "Plot the results of UMAP."
   ]
  },
  {
   "cell_type": "code",
   "execution_count": 76,
   "id": "1008fd5d",
   "metadata": {},
   "outputs": [
    {
     "data": {
      "text/plain": [
       "<AxesSubplot:title={'center':'leiden_test'}, xlabel='umap1', ylabel='umap2'>"
      ]
     },
     "execution_count": 76,
     "metadata": {},
     "output_type": "execute_result"
    },
    {
     "data": {
      "image/png": "[encoded data removed]",
      "text/plain": [
       "<Figure size 700x700 with 1 Axes>"
      ]
     },
     "metadata": {},
     "output_type": "display_data"
    }
   ],
   "source": [
    "data.plt.umap(res_key='umap_test', cluster_key='leiden_test')"
   ]
  },
  {
   "attachments": {},
   "cell_type": "markdown",
   "id": "11bb872b",
   "metadata": {},
   "source": [
    "## Using Result in `.h5ad`"
   ]
  },
  {
   "attachments": {},
   "cell_type": "markdown",
   "id": "075b8e16",
   "metadata": {},
   "source": [
    "By glancing at `data._ann_data`, we find `neighbors` in `.uns` are produced by other bioinformatical softwares. We can use it as input to Leiden clustering."
   ]
  },
  {
   "cell_type": "code",
   "execution_count": 77,
   "id": "72fc7b4b",
   "metadata": {},
   "outputs": [
    {
     "data": {
      "text/plain": [
       "AnnData object with n_obs × n_vars = 2316 × 25523\n",
       "    obs: 'n_genes_by_counts', 'total_counts', 'total_counts_mt', 'pct_counts_mt', 'leiden', 'leiden_test'\n",
       "    var: 'mt', 'n_cells_by_counts', 'mean_counts', 'pct_dropout_by_counts', 'total_counts', 'highly_variable', 'means', 'dispersions', 'dispersions_norm', 'mean', 'std'\n",
       "    uns: 'hvg', 'leiden', 'neighbors', 'pca', 'umap', 'highly_variable_genes', 'pca_test', 'neighbors_test', 'umap_test', 'leiden_test'\n",
       "    obsm: 'X_pca', 'X_umap', 'spatial', 'X_pca_test', 'X_umap_test'\n",
       "    varm: 'PCs'\n",
       "    obsp: 'connectivities', 'distances', 'neighbors_test_connectivities', 'neighbors_test_distances'"
      ]
     },
     "execution_count": 77,
     "metadata": {},
     "output_type": "execute_result"
    }
   ],
   "source": [
    "data._ann_data"
   ]
  },
  {
   "cell_type": "code",
   "execution_count": 78,
   "id": "c66ed834",
   "metadata": {},
   "outputs": [],
   "source": [
    "data.tl.leiden(neighbors_res_key='neighbors', res_key='leiden_new')"
   ]
  },
  {
   "cell_type": "code",
   "execution_count": 79,
   "id": "8de438a2",
   "metadata": {},
   "outputs": [
    {
     "data": {
      "text/html": [
       "<div>\n",
       "<style scoped>\n",
       "    .dataframe tbody tr th:only-of-type {\n",
       "        vertical-align: middle;\n",
       "    }\n",
       "\n",
       "    .dataframe tbody tr th {\n",
       "        vertical-align: top;\n",
       "    }\n",
       "\n",
       "    .dataframe thead th {\n",
       "        text-align: right;\n",
       "    }\n",
       "</style>\n",
       "<table border=\"1\" class=\"dataframe\">\n",
       "  <thead>\n",
       "    <tr style=\"text-align: right;\">\n",
       "      <th></th>\n",
       "      <th>n_genes_by_counts</th>\n",
       "      <th>total_counts</th>\n",
       "      <th>total_counts_mt</th>\n",
       "      <th>pct_counts_mt</th>\n",
       "      <th>leiden</th>\n",
       "      <th>leiden_test</th>\n",
       "      <th>leiden_new</th>\n",
       "    </tr>\n",
       "  </thead>\n",
       "  <tbody>\n",
       "    <tr>\n",
       "      <th>16-47</th>\n",
       "      <td>2331</td>\n",
       "      <td>9597.581055</td>\n",
       "      <td>142.0</td>\n",
       "      <td>0.471203</td>\n",
       "      <td>6</td>\n",
       "      <td>8</td>\n",
       "      <td>7</td>\n",
       "    </tr>\n",
       "    <tr>\n",
       "      <th>16-48</th>\n",
       "      <td>4612</td>\n",
       "      <td>11983.083984</td>\n",
       "      <td>685.0</td>\n",
       "      <td>0.469797</td>\n",
       "      <td>6</td>\n",
       "      <td>3</td>\n",
       "      <td>7</td>\n",
       "    </tr>\n",
       "    <tr>\n",
       "      <th>16-49</th>\n",
       "      <td>803</td>\n",
       "      <td>5191.250488</td>\n",
       "      <td>45.0</td>\n",
       "      <td>0.819007</td>\n",
       "      <td>6</td>\n",
       "      <td>8</td>\n",
       "      <td>7</td>\n",
       "    </tr>\n",
       "    <tr>\n",
       "      <th>17-47</th>\n",
       "      <td>3352</td>\n",
       "      <td>11328.244141</td>\n",
       "      <td>268.0</td>\n",
       "      <td>0.388805</td>\n",
       "      <td>6</td>\n",
       "      <td>8</td>\n",
       "      <td>7</td>\n",
       "    </tr>\n",
       "    <tr>\n",
       "      <th>17-48</th>\n",
       "      <td>5657</td>\n",
       "      <td>12873.247070</td>\n",
       "      <td>828.0</td>\n",
       "      <td>0.441474</td>\n",
       "      <td>6</td>\n",
       "      <td>3</td>\n",
       "      <td>7</td>\n",
       "    </tr>\n",
       "    <tr>\n",
       "      <th>...</th>\n",
       "      <td>...</td>\n",
       "      <td>...</td>\n",
       "      <td>...</td>\n",
       "      <td>...</td>\n",
       "      <td>...</td>\n",
       "      <td>...</td>\n",
       "      <td>...</td>\n",
       "    </tr>\n",
       "    <tr>\n",
       "      <th>67-55</th>\n",
       "      <td>791</td>\n",
       "      <td>5382.013184</td>\n",
       "      <td>63.0</td>\n",
       "      <td>0.955790</td>\n",
       "      <td>6</td>\n",
       "      <td>8</td>\n",
       "      <td>7</td>\n",
       "    </tr>\n",
       "    <tr>\n",
       "      <th>67-56</th>\n",
       "      <td>821</td>\n",
       "      <td>5625.035645</td>\n",
       "      <td>42.0</td>\n",
       "      <td>0.766030</td>\n",
       "      <td>6</td>\n",
       "      <td>8</td>\n",
       "      <td>7</td>\n",
       "    </tr>\n",
       "    <tr>\n",
       "      <th>67-57</th>\n",
       "      <td>820</td>\n",
       "      <td>5590.018555</td>\n",
       "      <td>37.0</td>\n",
       "      <td>0.840400</td>\n",
       "      <td>6</td>\n",
       "      <td>8</td>\n",
       "      <td>7</td>\n",
       "    </tr>\n",
       "    <tr>\n",
       "      <th>67-58</th>\n",
       "      <td>238</td>\n",
       "      <td>2333.927246</td>\n",
       "      <td>5.0</td>\n",
       "      <td>1.337509</td>\n",
       "      <td>6</td>\n",
       "      <td>8</td>\n",
       "      <td>7</td>\n",
       "    </tr>\n",
       "    <tr>\n",
       "      <th>67-59</th>\n",
       "      <td>501</td>\n",
       "      <td>4029.682861</td>\n",
       "      <td>10.0</td>\n",
       "      <td>0.737275</td>\n",
       "      <td>6</td>\n",
       "      <td>8</td>\n",
       "      <td>7</td>\n",
       "    </tr>\n",
       "  </tbody>\n",
       "</table>\n",
       "<p>2316 rows × 7 columns</p>\n",
       "</div>"
      ],
      "text/plain": [
       "       n_genes_by_counts  total_counts  total_counts_mt  pct_counts_mt leiden  \\\n",
       "16-47               2331   9597.581055            142.0       0.471203      6   \n",
       "16-48               4612  11983.083984            685.0       0.469797      6   \n",
       "16-49                803   5191.250488             45.0       0.819007      6   \n",
       "17-47               3352  11328.244141            268.0       0.388805      6   \n",
       "17-48               5657  12873.247070            828.0       0.441474      6   \n",
       "...                  ...           ...              ...            ...    ...   \n",
       "67-55                791   5382.013184             63.0       0.955790      6   \n",
       "67-56                821   5625.035645             42.0       0.766030      6   \n",
       "67-57                820   5590.018555             37.0       0.840400      6   \n",
       "67-58                238   2333.927246              5.0       1.337509      6   \n",
       "67-59                501   4029.682861             10.0       0.737275      6   \n",
       "\n",
       "      leiden_test leiden_new  \n",
       "16-47           8          7  \n",
       "16-48           3          7  \n",
       "16-49           8          7  \n",
       "17-47           8          7  \n",
       "17-48           3          7  \n",
       "...           ...        ...  \n",
       "67-55           8          7  \n",
       "67-56           8          7  \n",
       "67-57           8          7  \n",
       "67-58           8          7  \n",
       "67-59           8          7  \n",
       "\n",
       "[2316 rows x 7 columns]"
      ]
     },
     "execution_count": 79,
     "metadata": {},
     "output_type": "execute_result"
    }
   ],
   "source": [
    "data._ann_data.obs"
   ]
  },
  {
   "attachments": {},
   "cell_type": "markdown",
   "id": "f921c9b4",
   "metadata": {},
   "source": [
    "## Writing to `.h5ad`"
   ]
  },
  {
   "attachments": {},
   "cell_type": "markdown",
   "id": "17a169e1",
   "metadata": {},
   "source": [
    "Use `AnnData`'s function `write_h5ad` to write `AnnBasedStereoExpData` to `.h5ad` file."
   ]
  },
  {
   "cell_type": "code",
   "execution_count": 80,
   "id": "90ff541b",
   "metadata": {},
   "outputs": [],
   "source": [
    "data._ann_data.write_h5ad('./SS200000135TL_D1.stereo.h5ad')"
   ]
  }
 ],
 "metadata": {
  "kernelspec": {
   "display_name": "Python 3",
   "language": "python",
   "name": "python3"
  },
  "language_info": {
   "codemirror_mode": {
    "name": "ipython",
    "version": 3
   },
   "file_extension": ".py",
   "mimetype": "text/x-python",
   "name": "python",
   "nbconvert_exporter": "python",
   "pygments_lexer": "ipython3",
   "version": "3.8.15"
  },
  "vscode": {
   "interpreter": {
    "hash": "70dbeb2a90198859cd91b6ea0f3adc73d66939fe301617b631d99dfc954c0323"
   }
  }
 },
 "nbformat": 4,
 "nbformat_minor": 5
}
