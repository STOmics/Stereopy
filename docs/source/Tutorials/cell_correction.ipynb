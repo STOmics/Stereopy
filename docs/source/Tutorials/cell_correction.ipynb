{
 "cells": [
  {
   "cell_type": "markdown",
   "id": "3c3a41da",
   "metadata": {},
   "source": [
    "# Cell Correction"
   ]
  },
  {
   "cell_type": "markdown",
   "id": "4dd6b54c",
   "metadata": {},
   "source": [
    "This part shows how to correct cells in Stereopy. Generally, there are two ways to complete it:\n",
    "\n",
    "correcting from BGEF and mask;\n",
    "\n",
    "correcting from GEM and mask."
   ]
  },
  {
   "cell_type": "markdown",
   "id": "2f9fdf61",
   "metadata": {},
   "source": [
    "**Note::**\n",
    "\n",
    "1.If you have generate mask file from ssDNA image, serveral necessary modules should be installed previously, refer to the Image Preparation.\n",
    "\n",
    "2.We provide two versions of algorithm, one is slower but more accurate while the other one is faster but less accurate. Set the parameter `fast` to `True` to run faster version, default is `True`."
   ]
  },
  {
   "cell_type": "markdown",
   "id": "3c62bd59",
   "metadata": {},
   "source": [
    "## Correcting from BGEF and Mask"
   ]
  },
  {
   "cell_type": "markdown",
   "id": "c69495cd",
   "metadata": {},
   "source": [
    "On this way, you should specify the path of BGEF by `bgef_path`, the path of mask by `mask_path` and the output path to save corrected result by `out_dir`. \n",
    "\n",
    "Otherwise, specify the count of precesses by `process_count`, default to 10. Cell correction dafaults to return a StereoExpData object, if set `only_save_result` to `True`, only return the path of CGEF after correcting."
   ]
  },
  {
   "cell_type": "code",
   "execution_count": null,
   "id": "df9f2827",
   "metadata": {},
   "outputs": [],
   "source": [
    "from stereo.tools.cell_correct import cell_correct\n",
    "\n",
    "bgef_path = \"SS200000135TL_D1.raw.gef\"\n",
    "mask_path = \"SS200000135TL_D1_regist.tif\"\n",
    "out_dir = \"cell_correct_result\"\n",
    "\n",
    "data = cell_correct(out_dir=out_dir,\n",
    "                    bgef_path=bgef_path,\n",
    "                    mask_path=mask_path,\n",
    "                    process_count=10,\n",
    "                    only_save_result=False,\n",
    "                    fast=True\n",
    "                    )"
   ]
  },
  {
   "cell_type": "markdown",
   "id": "df52d966",
   "metadata": {},
   "source": [
    "Output directory includes such files:\n",
    "\n",
    "1. `.raw.cellbin.gef` - the CGEF without correcting, generated from BGEF and mask;\n",
    "2. `.adjusted.gem` - the gem after correction;\n",
    "3. `.adjusted.cellbin.gef` - the CGEF after correcting, generated from the `.adjusted.gem`;\n",
    "4. `err.log` - records the cells which cannot be corrected and not contained in `.adjusted.gem` and `.adjusted.cellbin.gef`."
   ]
  },
  {
   "cell_type": "markdown",
   "id": "8902253a",
   "metadata": {},
   "source": [
    "On certain occations, mask file could be generated from ssDNA image. Segmentation model `model_type` could be set as `deep-learning` or `deep-cell`, more details to check in the part of Cell segmentation."
   ]
  },
  {
   "cell_type": "code",
   "execution_count": null,
   "id": "a4b50744",
   "metadata": {},
   "outputs": [],
   "source": [
    "from stereo.tools.cell_correct import cell_correct\n",
    "\n",
    "out_dir = './ell_correct_result'\n",
    "bgef_path = './SS200000135TL_D1.raw.gef'\n",
    "image_path = './SS200000135TL_D1_regist.tif'\n",
    "model_path = './cell_segmentation/seg_model_20211210.pth'\n",
    "model_type = 'deep-learning'\n",
    "# model_path = 'cell_segmentation_deepcell'\n",
    "# model_type = 'deep-cell'\n",
    "\n",
    "data = cell_correct(out_dir=out_dir,\n",
    "                    bgef_path=bgef_path,\n",
    "                    image_path=image_path,\n",
    "                    model_path=model_path,\n",
    "                    model_type=model_type,\n",
    "                    gpu=-1,\n",
    "                    process_count=10,\n",
    "                    only_save_result=False,\n",
    "                    fast=True\n",
    "                    )"
   ]
  },
  {
   "cell_type": "markdown",
   "id": "c7bc80b5",
   "metadata": {},
   "source": [
    "## Correcting from GEM and Mask"
   ]
  },
  {
   "cell_type": "markdown",
   "id": "1774d8ec",
   "metadata": {},
   "source": [
    "On this way, you should also specify the path of BGEF by `bgef_path`, the path of mask by `mask_path` and the output path to save corrected result by `out_dir`. \n",
    "\n",
    "In output directory, the file named `*.bgef` is generated form mask."
   ]
  },
  {
   "cell_type": "code",
   "execution_count": null,
   "id": "ca4f7688",
   "metadata": {},
   "outputs": [],
   "source": [
    "from stereo.tools.cell_correct import cell_correct\n",
    "\n",
    "gem_path = \"SS200000135TL_D1.cellbin.gem\"\n",
    "mask_path = \"SS200000135TL_D1_mask.tif\"\n",
    "out_dir = \"cell_correct_result\"\n",
    "\n",
    "data = cell_correct(out_dir=out_dir,\n",
    "                  gem_path=gem_path,\n",
    "                    mask_path=mask_path,\n",
    "                    process_count=10,\n",
    "                    only_save_result=False,\n",
    "                    fast=True\n",
    "                    )"
   ]
  },
  {
   "cell_type": "markdown",
   "id": "d7a66576",
   "metadata": {},
   "source": [
    "Similar to what we have done on BGEF and ssDNA image, you can correct cells from GEM and ssDNA image."
   ]
  },
  {
   "cell_type": "code",
   "execution_count": null,
   "id": "2c8fa9e4",
   "metadata": {},
   "outputs": [],
   "source": [
    "from stereo.tools.cell_correct import cell_correct\n",
    "\n",
    "out_dir = './cell_correct_result'\n",
    "gem_path = './SS200000135TL_D1.cellbin.gem'\n",
    "image_path = './SS200000135TL_D1_regist.tif'\n",
    "model_path = './seg_model_20211210.pth'\n",
    "model_type = 'deep-learning'\n",
    "# model_path = './cell_segmentation_deepcell'\n",
    "# model_type = 'deep-cell'\n",
    "\n",
    "data = cell_correct(out_dir=out_dir,\n",
    "                    gem_path=gem_path,\n",
    "                    image_path=image_path,\n",
    "                    model_path=model_path,\n",
    "                    model_type=model_type,\n",
    "                    gpu=-1,\n",
    "                    process_count=10,\n",
    "                    only_save_result=False,\n",
    "                    fast=True\n",
    "                    )"
   ]
  },
  {
   "cell_type": "markdown",
   "id": "c6ea4543",
   "metadata": {},
   "source": [
    "## Running on Jupyter Notebook"
   ]
  },
  {
   "cell_type": "markdown",
   "id": "10c46cf4",
   "metadata": {},
   "source": [
    "Notebook can not support multiprocess directly, we recommend following two steps to improve performance.\n",
    "\n",
    "Firstly, write the source code in a python file by command `%%writefile`."
   ]
  },
  {
   "cell_type": "code",
   "execution_count": null,
   "id": "7254109c",
   "metadata": {},
   "outputs": [],
   "source": [
    "%%writefile temp.py\n",
    "from stereo.tools.cell_correct import cell_correct\n",
    "\n",
    "bgef_path = \"SS200000135TL_D1.raw.gef\"\n",
    "mask_path = \"SS200000135TL_D1_regist.tif\"\n",
    "out_dir = \"cell_correct_result\"\n",
    "\n",
    "data = cell_correct(out_dir=out_dir,\n",
    "                    bgef_path=bgef_path,\n",
    "                    mask_path=mask_path,\n",
    "                    process_count=10,\n",
    "                    only_save_result=False,\n",
    "                    fast=True\n",
    "                    )"
   ]
  },
  {
   "cell_type": "markdown",
   "id": "c6fdc5ca",
   "metadata": {},
   "source": [
    "Secondly, run the file by command `%run`."
   ]
  },
  {
   "cell_type": "code",
   "execution_count": null,
   "id": "0cf7dfab",
   "metadata": {},
   "outputs": [],
   "source": [
    "%run temp.py"
   ]
  },
  {
   "cell_type": "markdown",
   "id": "e7e0cf7e",
   "metadata": {},
   "source": [
    "## Performance"
   ]
  },
  {
   "cell_type": "markdown",
   "id": "e285f362",
   "metadata": {},
   "source": [
    "Take a GEF containing 55460 cells and 25546 genes as an example."
   ]
  },
  {
   "cell_type": "markdown",
   "id": "d91860b9",
   "metadata": {},
   "source": [
    "#### Machine configuration"
   ]
  },
  {
   "attachments": {},
   "cell_type": "markdown",
   "id": "b3ce7665",
   "metadata": {},
   "source": [
    "|physical cores |logic cores |memory   |\n",
    "| --- | --- | --- |\n",
    "|12             |48          |250G     |"
   ]
  },
  {
   "cell_type": "markdown",
   "id": "6efc1d70",
   "metadata": {},
   "source": [
    "#### Comparision of performance"
   ]
  },
  {
   "cell_type": "markdown",
   "id": "b8c85741",
   "metadata": {},
   "source": [
    "`fast=False`"
   ]
  },
  {
   "attachments": {},
   "cell_type": "markdown",
   "id": "d6baf5a3",
   "metadata": {},
   "source": [
    "|process  |memory(max) |cpu    |time   |\n",
    "| --- | --- | --- | --- |\n",
    "|10       |140G        |2330%  |2h13m  |"
   ]
  },
  {
   "cell_type": "markdown",
   "id": "cc40c942",
   "metadata": {},
   "source": [
    "`fast=True`(only support single process)"
   ]
  },
  {
   "attachments": {},
   "cell_type": "markdown",
   "id": "b023c1d5",
   "metadata": {},
   "source": [
    "|process  |memory(max) |cpu    |time   |\n",
    "| --- | --- | --- | --- |\n",
    "|1        |49G         |99%    |40m    |"
   ]
  }
 ],
 "metadata": {
  "kernelspec": {
   "display_name": "Python 3",
   "language": "python",
   "name": "python3"
  },
  "language_info": {
   "codemirror_mode": {
    "name": "ipython",
    "version": 3
   },
   "file_extension": ".py",
   "mimetype": "text/x-python",
   "name": "python",
   "nbconvert_exporter": "python",
   "pygments_lexer": "ipython3",
   "version": "3.6.2 (v3.6.2:5fd33b5, Jul  8 2017, 04:57:36) [MSC v.1900 64 bit (AMD64)]"
  },
  "vscode": {
   "interpreter": {
    "hash": "70dbeb2a90198859cd91b6ea0f3adc73d66939fe301617b631d99dfc954c0323"
   }
  }
 },
 "nbformat": 4,
 "nbformat_minor": 5
}
