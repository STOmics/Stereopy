{
 "cells": [
  {
   "attachments": {},
   "cell_type": "markdown",
   "id": "78073bc9",
   "metadata": {},
   "source": [
    "Clustering by GPU\n",
    "=================="
   ]
  },
  {
   "cell_type": "markdown",
   "id": "f27820d0",
   "metadata": {},
   "source": [
    "In short, we try a lot of technologies and find that GPU acceleration is the most efficient way to speed up clustering."
   ]
  },
  {
   "cell_type": "markdown",
   "id": "2153bbd0",
   "metadata": {},
   "source": [
    "Requirements\n",
    "============"
   ]
  },
  {
   "cell_type": "markdown",
   "id": "6995d952",
   "metadata": {},
   "source": [
    "CUDA\n",
    "----"
   ]
  },
  {
   "cell_type": "markdown",
   "id": "d41e898a",
   "metadata": {},
   "source": [
    "***Linux*** users installing CUDA follow the guide, [NVIDIA CUDA Installation Guide for Linux](https://docs.nvidia.com/cuda/cuda-installation-guide-linux/)."
   ]
  },
  {
   "cell_type": "markdown",
   "id": "28cb4f7a",
   "metadata": {},
   "source": [
    "Installing CUDA on ***Windows*** is a bit more complicated because Stereopy is not supported on Windows. Following the guide [CUDA on WSL User Guide](https://docs.nvidia.com/cuda/wsl-user-guide/index.html#getting-started-with-cuda-on-wsl), you can run Stereopy with the GPU option on WSL."
   ]
  },
  {
   "cell_type": "markdown",
   "id": "274fb8b1",
   "metadata": {},
   "source": [
    "RAPIDS on Anaconda\n",
    "----"
   ]
  },
  {
   "cell_type": "markdown",
   "id": "faabfec9",
   "metadata": {},
   "source": [
    "Select the correct version on [RAPIDS' official website](https://rapids.ai/start.html). The following command is closely related to my environment:"
   ]
  },
  {
   "cell_type": "markdown",
   "id": "f7edd3a7",
   "metadata": {},
   "source": [
    "``conda create -n rapids-22.12 -c rapidsai -c conda-forge -c nvidia rapids=22.12 python=3.8 cudatoolkit=11.5``"
   ]
  },
  {
   "cell_type": "markdown",
   "id": "483dae21",
   "metadata": {},
   "source": [
    "NOTE: My real experience installing CUDA on WSL successfully with ***NVIDIA Studio Driver WHQL 522.30*** according to this [bug](https://forums.developer.nvidia.com/t/cudaruntimeapierror-100-call-to-cudaruntimegetversion-results-in-cuda-error-no-device/234740)  reporter's advice. By the way, this is my personal PC environment with CUDA:\n",
    "* Intel Core i7-7700k\n",
    "* NVIDIA-GeForce-RTX-3060（NVIDIA-SMI 522.30; Driver Version: 522.30; CUDA Version: 11.8）\n",
    "* WSL2 on Windows10(21H2)"
   ]
  },
  {
   "cell_type": "markdown",
   "id": "3e728fd6",
   "metadata": {},
   "source": [
    "Stereopy Installation\n",
    "----"
   ]
  },
  {
   "cell_type": "markdown",
   "id": "1f811737",
   "metadata": {},
   "source": [
    "Installing StereoPy by anaconda fails in this Conda GPU environment. Only [PyPI Installation](https://stereopy.readthedocs.io/en/latest/General/Installation.html#pypi) will succeed."
   ]
  },
  {
   "cell_type": "markdown",
   "id": "d972366d",
   "metadata": {},
   "source": [
    "``pip install stereopy``"
   ]
  },
  {
   "cell_type": "markdown",
   "id": "7ead42dc",
   "metadata": {},
   "source": [
    "# Test"
   ]
  },
  {
   "cell_type": "markdown",
   "id": "fb44c387",
   "metadata": {},
   "source": [
    "Common part:"
   ]
  },
  {
   "cell_type": "code",
   "execution_count": 2,
   "id": "1eeb90cd",
   "metadata": {},
   "outputs": [
    {
     "name": "stderr",
     "output_type": "stream",
     "text": [
      "[2022-12-21 15:39:55][Stereo][66497][140419630081856][reader][625][INFO]: read_gef begin ...\n",
      "[2022-12-21 15:40:10][Stereo][66497][140419630081856][reader][698][INFO]: the matrix has 149399 cells, and 24604 genes.\n",
      "[2022-12-21 15:40:11][Stereo][66497][140419630081856][reader][706][INFO]: read_gef end.\n",
      "[2022-12-21 15:40:12][Stereo][66497][140419630081856][st_pipeline][32][INFO]: start to run cal_qc...\n",
      "[2022-12-21 15:40:12][Stereo][66497][140419630081856][st_pipeline][35][INFO]: cal_qc end, consume time 0.3396s.\n",
      "[2022-12-21 15:40:12][Stereo][66497][140419630081856][st_pipeline][32][INFO]: start to run normalize_total...\n"
     ]
    },
    {
     "name": "stdout",
     "output_type": "stream",
     "text": [
      "(149399, 24604)\n"
     ]
    },
    {
     "name": "stderr",
     "output_type": "stream",
     "text": [
      "[2022-12-21 15:40:12][Stereo][66497][140419630081856][st_pipeline][35][INFO]: normalize_total end, consume time 0.5192s.\n",
      "[2022-12-21 15:40:12][Stereo][66497][140419630081856][st_pipeline][32][INFO]: start to run log1p...\n",
      "[2022-12-21 15:40:13][Stereo][66497][140419630081856][st_pipeline][35][INFO]: log1p end, consume time 0.8321s.\n",
      "[2022-12-21 15:40:13][Stereo][66497][140419630081856][st_pipeline][32][INFO]: start to run highly_variable_genes...\n",
      "[2022-12-21 15:40:17][Stereo][66497][140419630081856][st_pipeline][35][INFO]: highly_variable_genes end, consume time 3.4336s.\n",
      "[2022-12-21 15:40:17][Stereo][66497][140419630081856][st_pipeline][32][INFO]: start to run pca...\n",
      "[2022-12-21 15:40:23][Stereo][66497][140419630081856][st_pipeline][35][INFO]: pca end, consume time 6.4518s.\n"
     ]
    }
   ],
   "source": [
    "import sys\n",
    "sys.path.insert(0, \"/ldfssz1/ST_BI/USER/lyonlin/stereopy\")\n",
    "import stereo as st\n",
    "\n",
    "gef_file = '/ldfssz1/ST_BI/USER/stereopy/test/xujunhao/data/SS200000135TL_D1/SS200000135TL_D1.gef'\n",
    "bin_size = 50\n",
    "\n",
    "data = st.io.read_gef(gef_file, bin_size=bin_size)\n",
    "data.tl.cal_qc()\n",
    "print(data.exp_matrix.shape)\n",
    "data.tl.normalize_total(target_sum=1e4)\n",
    "data.tl.log1p()\n",
    "data.tl.highly_variable_genes(min_mean=0.0125, max_mean=3, min_disp=0.5, res_key='highly_variable_genes', n_top_genes=None)\n",
    "data.tl.pca(use_highly_genes=True, hvg_res_key='highly_variable_genes', n_pcs=20, res_key='pca', svd_solver='arpack')"
   ]
  },
  {
   "cell_type": "markdown",
   "id": "cfbfb2fb",
   "metadata": {},
   "source": [
    "CPU clustering demo script:"
   ]
  },
  {
   "cell_type": "code",
   "execution_count": 2,
   "id": "7fcf8813",
   "metadata": {},
   "outputs": [
    {
     "name": "stderr",
     "output_type": "stream",
     "text": [
      "[2022-12-21 14:42:14][Stereo][61764][139713726842688][st_pipeline][32][INFO]: start to run neighbors...\n",
      "[2022-12-21 14:42:41][Stereo][61764][139713726842688][st_pipeline][35][INFO]: neighbors end, consume time 26.8832s.\n",
      "[2022-12-21 14:42:41][Stereo][61764][139713726842688][st_pipeline][32][INFO]: start to run umap...\n"
     ]
    },
    {
     "name": "stdout",
     "output_type": "stream",
     "text": [
      "\tcompleted  0  /  200 epochs\n",
      "\tcompleted  20  /  200 epochs\n",
      "\tcompleted  40  /  200 epochs\n",
      "\tcompleted  60  /  200 epochs\n",
      "\tcompleted  80  /  200 epochs\n",
      "\tcompleted  100  /  200 epochs\n",
      "\tcompleted  120  /  200 epochs\n",
      "\tcompleted  140  /  200 epochs\n",
      "\tcompleted  160  /  200 epochs\n",
      "\tcompleted  180  /  200 epochs\n"
     ]
    },
    {
     "name": "stderr",
     "output_type": "stream",
     "text": [
      "[2022-12-21 14:44:16][Stereo][61764][139713726842688][st_pipeline][35][INFO]: umap end, consume time 95.9194s.\n",
      "[2022-12-21 14:44:16][Stereo][61764][139713726842688][st_pipeline][32][INFO]: start to run leiden...\n",
      "[2022-12-21 14:45:13][Stereo][61764][139713726842688][st_pipeline][35][INFO]: leiden end, consume time 56.9536s.\n"
     ]
    }
   ],
   "source": [
    "data.tl.neighbors(pca_res_key='pca', n_pcs=30, res_key='neighbors', n_jobs=8)\n",
    "data.tl.umap(pca_res_key='pca', neighbors_res_key='neighbors', res_key='umap', init_pos='spectral')\n",
    "data.tl.leiden(neighbors_res_key='neighbors', res_key='leiden')"
   ]
  },
  {
   "cell_type": "markdown",
   "id": "fb8d4b33",
   "metadata": {},
   "source": [
    "GPU clustering demo script:"
   ]
  },
  {
   "cell_type": "code",
   "execution_count": 3,
   "id": "0f8e556b",
   "metadata": {},
   "outputs": [
    {
     "name": "stderr",
     "output_type": "stream",
     "text": [
      "[2022-12-21 14:45:13][Stereo][61764][139713726842688][st_pipeline][32][INFO]: start to run neighbors...\n",
      "[2022-12-21 14:45:27][Stereo][61764][139713726842688][neighbors][76][INFO]: cuml NearestNeighbors run end\n",
      "[2022-12-21 14:45:30][Stereo][61764][139713726842688][st_pipeline][35][INFO]: neighbors end, consume time 16.5405s.\n",
      "[2022-12-21 14:45:30][Stereo][61764][139713726842688][st_pipeline][32][INFO]: start to run umap...\n"
     ]
    },
    {
     "name": "stdout",
     "output_type": "stream",
     "text": [
      "[D] [14:45:31.054023] /workspace/.conda-bld/work/cpp/src/umap/runner.cuh:107 n_neighbors=10\n",
      "[D] [14:45:31.060267] /workspace/.conda-bld/work/cpp/src/umap/runner.cuh:129 Calling knn graph run\n"
     ]
    },
    {
     "name": "stderr",
     "output_type": "stream",
     "text": [
      "[2022-12-21 14:45:39][Stereo][61764][139713726842688][st_pipeline][35][INFO]: umap end, consume time 8.7355s.\n",
      "[2022-12-21 14:45:39][Stereo][61764][139713726842688][st_pipeline][32][INFO]: start to run leiden...\n"
     ]
    },
    {
     "name": "stdout",
     "output_type": "stream",
     "text": [
      "[D] [14:45:31.366800] /workspace/.conda-bld/work/cpp/src/umap/runner.cuh:135 Done. Calling fuzzy simplicial set\n",
      "[D] [14:45:31.373483] /workspace/.conda-bld/work/cpp/src/umap/fuzzy_simpl_set/naive.cuh:317 Smooth kNN Distances\n",
      "[D] [14:45:31.373641] /workspace/.conda-bld/work/cpp/src/umap/fuzzy_simpl_set/naive.cuh:319 sigmas = [ 1.66096, 3.51944, 3.39145, 5.00403, 4.24579, 0.635422, 6.13477, 2.1259, 0.802788, 2.81464, 10.1738, 1.67606, 2.70644, 2.61655, 8.5838, 1.9319, 2.06683, 5.92374, 2.35748, 3.3945, 2.19998, 13.5659, 3.18521, 1.15547, 2.06163 ]\n",
      "\n",
      "[D] [14:45:31.373683] /workspace/.conda-bld/work/cpp/src/umap/fuzzy_simpl_set/naive.cuh:321 rhos = [ 18.8295, 4.74797, 12.2983, 20.5062, 11.9926, 0.968774, 21.8343, 16.933, 13.0154, 20.0772, 4.94045, 4.10428, 15.5052, 10.3524, 14.3463, 7.09102, 21.7079, 27.1835, 17.1671, 5.06311, 7.3557, 12.2797, 11.9784, 8.74901, 5.08703 ]\n",
      "\n",
      "[D] [14:45:31.373699] /workspace/.conda-bld/work/cpp/src/umap/fuzzy_simpl_set/naive.cuh:345 Compute Membership Strength\n",
      "[D] [14:45:32.325550] /workspace/.conda-bld/work/cpp/src/umap/fuzzy_simpl_set/naive.cuh:348 /workspace/.conda-bld/work/cpp/src/umap/fuzzy_simpl_set/naive.cuh:348 \n",
      "[D] [14:45:32.860902] /workspace/.conda-bld/work/cpp/src/umap/runner.cuh:142 Done. Calling remove zeros\n",
      "[D] [14:45:37.989590] /workspace/.conda-bld/work/cpp/src/umap/simpl_set_embed/algo.cuh:347 /workspace/.conda-bld/work/cpp/src/umap/simpl_set_embed/algo.cuh:347 \n"
     ]
    },
    {
     "name": "stderr",
     "output_type": "stream",
     "text": [
      "INFO:numba.cuda.cudadrv.driver:init\n",
      "[2022-12-21 14:45:50][Stereo][61764][139713726842688][st_pipeline][35][INFO]: leiden end, consume time 10.9636s.\n"
     ]
    }
   ],
   "source": [
    "data.tl.neighbors(pca_res_key='pca', n_pcs=30, res_key='neighbors', n_jobs=8, method='rapids')\n",
    "data.tl.umap(pca_res_key='pca', neighbors_res_key='neighbors', res_key='umap', init_pos='spectral', method='rapids')\n",
    "data.tl.leiden(neighbors_res_key='neighbors', res_key='leiden', method='rapids')"
   ]
  },
  {
   "cell_type": "markdown",
   "id": "507db4c5",
   "metadata": {},
   "source": [
    "# GPU Option at `neighbors, umap, leiden and louvain`"
   ]
  },
  {
   "cell_type": "markdown",
   "id": "47886a7d",
   "metadata": {},
   "source": [
    "The use of clustering methods neighbors, umap and leiden, is shown just before, setting the `method` parameter to `rapids`."
   ]
  },
  {
   "cell_type": "markdown",
   "id": "d8305ad1",
   "metadata": {},
   "source": [
    "`louvain` setting the flavor to `rapids` can also use GPU acceleration, just like below:"
   ]
  },
  {
   "cell_type": "code",
   "execution_count": 3,
   "id": "b49fc040",
   "metadata": {},
   "outputs": [
    {
     "name": "stderr",
     "output_type": "stream",
     "text": [
      "[2022-12-21 15:40:23][Stereo][66497][140419630081856][st_pipeline][32][INFO]: start to run neighbors...\n",
      "[2022-12-21 15:40:36][Stereo][66497][140419630081856][neighbors][76][INFO]: cuml NearestNeighbors run end\n",
      "[2022-12-21 15:40:43][Stereo][66497][140419630081856][st_pipeline][35][INFO]: neighbors end, consume time 20.1793s.\n",
      "[2022-12-21 15:40:43][Stereo][66497][140419630081856][st_pipeline][32][INFO]: start to run louvain...\n",
      "INFO:numba.cuda.cudadrv.driver:init\n",
      "[2022-12-21 15:41:11][Stereo][66497][140419630081856][st_pipeline][35][INFO]: louvain end, consume time 27.4569s.\n"
     ]
    }
   ],
   "source": [
    "data.tl.neighbors(pca_res_key='pca', n_pcs=30, res_key='neighbors', n_jobs=8, method='rapids')\n",
    "data.tl.louvain(neighbors_res_key='neighbors', res_key='louvain', flavor='rapids', use_weights=True)"
   ]
  }
 ],
 "metadata": {
  "kernelspec": {
   "display_name": "Python 3",
   "language": "python",
   "name": "python3"
  },
  "language_info": {
   "codemirror_mode": {
    "name": "ipython",
    "version": 3
   },
   "file_extension": ".py",
   "mimetype": "text/x-python",
   "name": "python",
   "nbconvert_exporter": "python",
   "pygments_lexer": "ipython3",
   "version": "3.6.2 (v3.6.2:5fd33b5, Jul  8 2017, 04:57:36) [MSC v.1900 64 bit (AMD64)]"
  },
  "vscode": {
   "interpreter": {
    "hash": "70dbeb2a90198859cd91b6ea0f3adc73d66939fe301617b631d99dfc954c0323"
   }
  }
 },
 "nbformat": 4,
 "nbformat_minor": 5
}
