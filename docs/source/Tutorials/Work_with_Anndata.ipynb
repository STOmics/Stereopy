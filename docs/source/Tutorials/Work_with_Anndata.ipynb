{
 "cells": [
  {
   "cell_type": "markdown",
   "id": "d230e8e2",
   "metadata": {},
   "source": [
    "# Work with AnnData"
   ]
  },
  {
   "attachments": {},
   "cell_type": "markdown",
   "id": "8f04cd10",
   "metadata": {},
   "source": [
    "`AnnData` is widely used in bioinformatic software because of its highly compatible design and efficient functions, further information in [AnnData Docs](https://anndata.readthedocs.io/en/latest/tutorials/notebooks/getting-started.html)"
   ]
  },
  {
   "cell_type": "markdown",
   "id": "88205659",
   "metadata": {},
   "source": [
    "## Simple start"
   ]
  },
  {
   "cell_type": "markdown",
   "id": "676b59a9",
   "metadata": {},
   "source": [
    "To meet the needs of more users, we integrate `AnnData` functionality into `StereoExpData` through adapter mode."
   ]
  },
  {
   "attachments": {},
   "cell_type": "markdown",
   "id": "ad08c238",
   "metadata": {},
   "source": [
    "Using `st.io.read_h5ad` to read `.h5ad` file into `AnnBasedStereoExpData`."
   ]
  },
  {
   "cell_type": "code",
   "execution_count": 2,
   "id": "04d1f1d2",
   "metadata": {},
   "outputs": [],
   "source": [
    "import stereo as st\n",
    "\n",
    "# spatial_key is the key to get spatial information from AnnData.obsm.\n",
    "data = st.io.read_h5ad('./mouse_forebrain.anndata_075.h5ad', spatial_key='spatial')"
   ]
  },
  {
   "cell_type": "markdown",
   "id": "f6d52b34",
   "metadata": {},
   "source": [
    "Show `AnnData` infomation."
   ]
  },
  {
   "cell_type": "code",
   "execution_count": 3,
   "id": "f517a3d8",
   "metadata": {},
   "outputs": [
    {
     "data": {
      "text/plain": [
       "AnnData object with n_obs × n_vars = 9092 × 10276\n",
       "    obs: 'annotation', 'celltype', 'class', 'leiden', 'timepoint'\n",
       "    var: 'fuzzy_C_result', 'greater_pvalue', 'less_pvalue', 'log1p_mean_counts', 'log1p_total_counts', 'logFC'\n",
       "    uns: 'sn'\n",
       "    obsm: 'spatial'"
      ]
     },
     "execution_count": 3,
     "metadata": {},
     "output_type": "execute_result"
    }
   ],
   "source": [
    "data.adata"
   ]
  },
  {
   "cell_type": "markdown",
   "id": "12399a29",
   "metadata": {},
   "source": [
    "And we automatically index `data.exp_matrix` to `data.adata.X`, which means you can read a `.h5ad` file and use it as `StereoExpData`."
   ]
  },
  {
   "cell_type": "code",
   "execution_count": 4,
   "id": "3616a659",
   "metadata": {},
   "outputs": [
    {
     "data": {
      "text/plain": [
       "True"
      ]
     },
     "execution_count": 4,
     "metadata": {},
     "output_type": "execute_result"
    }
   ],
   "source": [
    "data.exp_matrix is data.adata.X"
   ]
  },
  {
   "cell_type": "markdown",
   "id": "90309d79",
   "metadata": {},
   "source": [
    "## Supported StereoExpData features"
   ]
  },
  {
   "attachments": {},
   "cell_type": "markdown",
   "id": "066fa721",
   "metadata": {},
   "source": [
    "* exp_matrix: `adata.X`\n",
    "* postion `adata.uns`\n",
    "* cells: `adata.obs`\n",
    "* genes: `adata.var`"
   ]
  },
  {
   "cell_type": "markdown",
   "id": "dbde4899",
   "metadata": {},
   "source": [
    "## Supported StereoExpData functions"
   ]
  },
  {
   "cell_type": "markdown",
   "id": "cb340d08",
   "metadata": {},
   "source": [
    "Most tools and plot functions are supported."
   ]
  },
  {
   "cell_type": "code",
   "execution_count": 5,
   "id": "b3abdcec",
   "metadata": {},
   "outputs": [
    {
     "name": "stderr",
     "output_type": "stream",
     "text": [
      "[2023-11-14 16:44:32][Stereo][77692][MainThread][140240360204096][st_pipeline][37][INFO]: start to run cal_qc...\n",
      "[2023-11-14 16:44:32][Stereo][77692][MainThread][140240360204096][st_pipeline][40][INFO]: cal_qc end, consume time 0.2945s.\n",
      "[2023-11-14 16:44:32][Stereo][77692][MainThread][140240360204096][st_pipeline][37][INFO]: start to run normalize_total...\n",
      "[2023-11-14 16:44:33][Stereo][77692][MainThread][140240360204096][st_pipeline][40][INFO]: normalize_total end, consume time 0.2316s.\n",
      "[2023-11-14 16:44:33][Stereo][77692][MainThread][140240360204096][st_pipeline][37][INFO]: start to run log1p...\n",
      "[2023-11-14 16:44:33][Stereo][77692][MainThread][140240360204096][st_pipeline][40][INFO]: log1p end, consume time 0.1042s.\n",
      "[2023-11-14 16:44:33][Stereo][77692][MainThread][140240360204096][st_pipeline][37][INFO]: start to run highly_variable_genes...\n",
      "[2023-11-14 16:44:34][Stereo][77692][MainThread][140240360204096][st_pipeline][40][INFO]: highly_variable_genes end, consume time 0.8514s.\n",
      "[2023-11-14 16:44:34][Stereo][77692][MainThread][140240360204096][st_pipeline][37][INFO]: start to run pca...\n",
      "[2023-11-14 16:44:41][Stereo][77692][MainThread][140240360204096][st_pipeline][40][INFO]: pca end, consume time 7.2990s.\n",
      "[2023-11-14 16:44:41][Stereo][77692][MainThread][140240360204096][st_pipeline][37][INFO]: start to run neighbors...\n",
      "[2023-11-14 16:45:38][Stereo][77692][MainThread][140240360204096][st_pipeline][40][INFO]: neighbors end, consume time 56.7120s.\n",
      "[2023-11-14 16:45:38][Stereo][77692][MainThread][140240360204096][st_pipeline][37][INFO]: start to run umap...\n"
     ]
    },
    {
     "name": "stdout",
     "output_type": "stream",
     "text": [
      "\tcompleted  0  /  500 epochs\n",
      "\tcompleted  50  /  500 epochs\n",
      "\tcompleted  100  /  500 epochs\n",
      "\tcompleted  150  /  500 epochs\n",
      "\tcompleted  200  /  500 epochs\n",
      "\tcompleted  250  /  500 epochs\n",
      "\tcompleted  300  /  500 epochs\n",
      "\tcompleted  350  /  500 epochs\n",
      "\tcompleted  400  /  500 epochs\n",
      "\tcompleted  450  /  500 epochs\n"
     ]
    },
    {
     "name": "stderr",
     "output_type": "stream",
     "text": [
      "[2023-11-14 16:46:28][Stereo][77692][MainThread][140240360204096][st_pipeline][40][INFO]: umap end, consume time 49.9396s.\n",
      "[2023-11-14 16:46:28][Stereo][77692][MainThread][140240360204096][st_pipeline][37][INFO]: start to run leiden...\n",
      "[2023-11-14 16:46:29][Stereo][77692][MainThread][140240360204096][st_pipeline][40][INFO]: leiden end, consume time 1.6195s.\n"
     ]
    }
   ],
   "source": [
    "data.tl.cal_qc()\n",
    "data.tl.raw_checkpoint()\n",
    "data.tl.normalize_total(target_sum=1e4)\n",
    "data.tl.log1p()\n",
    "data.tl.highly_variable_genes(min_mean=0.0125, max_mean=3, min_disp=0.5, res_key='highly_variable_genes', n_top_genes=None)\n",
    "data.tl.pca(use_highly_genes=True, hvg_res_key='highly_variable_genes', n_pcs=20, res_key='pca_test', svd_solver='arpack')\n",
    "data.tl.neighbors(pca_res_key='pca_test', n_pcs=30, res_key='neighbors_test', n_jobs=8)\n",
    "data.tl.umap(pca_res_key='pca_test', neighbors_res_key='neighbors_test', res_key='umap_test', init_pos='spectral')\n",
    "data.tl.leiden(neighbors_res_key='neighbors_test', res_key='leiden_test')"
   ]
  },
  {
   "attachments": {},
   "cell_type": "markdown",
   "id": "e245359f",
   "metadata": {},
   "source": [
    "See what self-defined results have been written to `adata`. "
   ]
  },
  {
   "cell_type": "code",
   "execution_count": 6,
   "id": "f46697e7",
   "metadata": {},
   "outputs": [
    {
     "data": {
      "text/plain": [
       "AnnData object with n_obs × n_vars = 9092 × 10276\n",
       "    obs: 'annotation', 'celltype', 'class', 'leiden', 'timepoint', 'total_counts', 'n_genes_by_counts', 'pct_counts_mt', 'leiden_test'\n",
       "    var: 'fuzzy_C_result', 'greater_pvalue', 'less_pvalue', 'log1p_mean_counts', 'log1p_total_counts', 'logFC', 'n_cells', 'n_counts', 'mean_umi', 'means', 'dispersions', 'dispersions_norm', 'highly_variable'\n",
       "    uns: 'sn', 'highly_variable_genes', 'pca_test', 'neighbors_test', 'umap_test', 'leiden_test', 'gene_exp_leiden_test'\n",
       "    obsm: 'spatial', 'X_pca_test', 'X_umap_test'\n",
       "    obsp: 'neighbors_test_connectivities', 'neighbors_test_distances'"
      ]
     },
     "execution_count": 6,
     "metadata": {},
     "output_type": "execute_result"
    }
   ],
   "source": [
    "data.adata"
   ]
  },
  {
   "attachments": {},
   "cell_type": "markdown",
   "id": "b6ccf279",
   "metadata": {},
   "source": [
    "Get a new column `leiden_test` after `leiden`, which could be displayed through `adata.obs` or `cells`."
   ]
  },
  {
   "cell_type": "code",
   "execution_count": 7,
   "id": "124b08b3",
   "metadata": {},
   "outputs": [
    {
     "data": {
      "text/html": [
       "<div>\n",
       "<style scoped>\n",
       "    .dataframe tbody tr th:only-of-type {\n",
       "        vertical-align: middle;\n",
       "    }\n",
       "\n",
       "    .dataframe tbody tr th {\n",
       "        vertical-align: top;\n",
       "    }\n",
       "\n",
       "    .dataframe thead th {\n",
       "        text-align: right;\n",
       "    }\n",
       "</style>\n",
       "<table border=\"1\" class=\"dataframe\">\n",
       "  <thead>\n",
       "    <tr style=\"text-align: right;\">\n",
       "      <th></th>\n",
       "      <th>annotation</th>\n",
       "      <th>celltype</th>\n",
       "      <th>class</th>\n",
       "      <th>leiden</th>\n",
       "      <th>timepoint</th>\n",
       "      <th>total_counts</th>\n",
       "      <th>n_genes_by_counts</th>\n",
       "      <th>pct_counts_mt</th>\n",
       "      <th>leiden_test</th>\n",
       "    </tr>\n",
       "  </thead>\n",
       "  <tbody>\n",
       "    <tr>\n",
       "      <th>209_102-0</th>\n",
       "      <td>Brain</td>\n",
       "      <td>RglDF12</td>\n",
       "      <td>Dorsal forebrain</td>\n",
       "      <td>7</td>\n",
       "      <td>E9.5</td>\n",
       "      <td>12112.0</td>\n",
       "      <td>3527</td>\n",
       "      <td>0.908190</td>\n",
       "      <td>22</td>\n",
       "    </tr>\n",
       "    <tr>\n",
       "      <th>209_87-0</th>\n",
       "      <td>Brain</td>\n",
       "      <td>RglDF12</td>\n",
       "      <td>Dorsal forebrain</td>\n",
       "      <td>7</td>\n",
       "      <td>E9.5</td>\n",
       "      <td>13954.0</td>\n",
       "      <td>3785</td>\n",
       "      <td>0.716640</td>\n",
       "      <td>22</td>\n",
       "    </tr>\n",
       "    <tr>\n",
       "      <th>209_88-0</th>\n",
       "      <td>Brain</td>\n",
       "      <td>RglDF12</td>\n",
       "      <td>Dorsal forebrain</td>\n",
       "      <td>7</td>\n",
       "      <td>E9.5</td>\n",
       "      <td>13810.0</td>\n",
       "      <td>3766</td>\n",
       "      <td>0.782042</td>\n",
       "      <td>22</td>\n",
       "    </tr>\n",
       "    <tr>\n",
       "      <th>209_89-0</th>\n",
       "      <td>Brain</td>\n",
       "      <td>RglDF12</td>\n",
       "      <td>Dorsal forebrain</td>\n",
       "      <td>7</td>\n",
       "      <td>E9.5</td>\n",
       "      <td>15159.0</td>\n",
       "      <td>3925</td>\n",
       "      <td>0.864173</td>\n",
       "      <td>22</td>\n",
       "    </tr>\n",
       "    <tr>\n",
       "      <th>209_90-0</th>\n",
       "      <td>Brain</td>\n",
       "      <td>RglDF12</td>\n",
       "      <td>Dorsal forebrain</td>\n",
       "      <td>7</td>\n",
       "      <td>E9.5</td>\n",
       "      <td>15711.0</td>\n",
       "      <td>4024</td>\n",
       "      <td>0.668322</td>\n",
       "      <td>22</td>\n",
       "    </tr>\n",
       "    <tr>\n",
       "      <th>...</th>\n",
       "      <td>...</td>\n",
       "      <td>...</td>\n",
       "      <td>...</td>\n",
       "      <td>...</td>\n",
       "      <td>...</td>\n",
       "      <td>...</td>\n",
       "      <td>...</td>\n",
       "      <td>...</td>\n",
       "      <td>...</td>\n",
       "    </tr>\n",
       "    <tr>\n",
       "      <th>679_180-7</th>\n",
       "      <td>Brain</td>\n",
       "      <td>Neur511</td>\n",
       "      <td>Cortical or hippocampal glutamatergic</td>\n",
       "      <td>3</td>\n",
       "      <td>E16.5</td>\n",
       "      <td>6986.0</td>\n",
       "      <td>2124</td>\n",
       "      <td>0.844546</td>\n",
       "      <td>11</td>\n",
       "    </tr>\n",
       "    <tr>\n",
       "      <th>679_181-7</th>\n",
       "      <td>Brain</td>\n",
       "      <td>Neur511</td>\n",
       "      <td>Cortical or hippocampal glutamatergic</td>\n",
       "      <td>3</td>\n",
       "      <td>E16.5</td>\n",
       "      <td>6461.0</td>\n",
       "      <td>2063</td>\n",
       "      <td>0.665532</td>\n",
       "      <td>11</td>\n",
       "    </tr>\n",
       "    <tr>\n",
       "      <th>679_182-7</th>\n",
       "      <td>Brain</td>\n",
       "      <td>Neur511</td>\n",
       "      <td>Cortical or hippocampal glutamatergic</td>\n",
       "      <td>3</td>\n",
       "      <td>E16.5</td>\n",
       "      <td>7860.0</td>\n",
       "      <td>2265</td>\n",
       "      <td>0.725191</td>\n",
       "      <td>11</td>\n",
       "    </tr>\n",
       "    <tr>\n",
       "      <th>679_183-7</th>\n",
       "      <td>Brain</td>\n",
       "      <td>Neur511</td>\n",
       "      <td>Cortical or hippocampal glutamatergic</td>\n",
       "      <td>3</td>\n",
       "      <td>E16.5</td>\n",
       "      <td>7732.0</td>\n",
       "      <td>2172</td>\n",
       "      <td>1.138127</td>\n",
       "      <td>11</td>\n",
       "    </tr>\n",
       "    <tr>\n",
       "      <th>679_184-7</th>\n",
       "      <td>Brain</td>\n",
       "      <td>Neur511</td>\n",
       "      <td>Cortical or hippocampal glutamatergic</td>\n",
       "      <td>3</td>\n",
       "      <td>E16.5</td>\n",
       "      <td>8195.0</td>\n",
       "      <td>2091</td>\n",
       "      <td>0.695546</td>\n",
       "      <td>11</td>\n",
       "    </tr>\n",
       "  </tbody>\n",
       "</table>\n",
       "<p>9092 rows × 9 columns</p>\n",
       "</div>"
      ],
      "text/plain": [
       "          annotation celltype                                  class leiden  \\\n",
       "209_102-0      Brain  RglDF12                       Dorsal forebrain      7   \n",
       "209_87-0       Brain  RglDF12                       Dorsal forebrain      7   \n",
       "209_88-0       Brain  RglDF12                       Dorsal forebrain      7   \n",
       "209_89-0       Brain  RglDF12                       Dorsal forebrain      7   \n",
       "209_90-0       Brain  RglDF12                       Dorsal forebrain      7   \n",
       "...              ...      ...                                    ...    ...   \n",
       "679_180-7      Brain  Neur511  Cortical or hippocampal glutamatergic      3   \n",
       "679_181-7      Brain  Neur511  Cortical or hippocampal glutamatergic      3   \n",
       "679_182-7      Brain  Neur511  Cortical or hippocampal glutamatergic      3   \n",
       "679_183-7      Brain  Neur511  Cortical or hippocampal glutamatergic      3   \n",
       "679_184-7      Brain  Neur511  Cortical or hippocampal glutamatergic      3   \n",
       "\n",
       "          timepoint  total_counts  n_genes_by_counts  pct_counts_mt  \\\n",
       "209_102-0      E9.5       12112.0               3527       0.908190   \n",
       "209_87-0       E9.5       13954.0               3785       0.716640   \n",
       "209_88-0       E9.5       13810.0               3766       0.782042   \n",
       "209_89-0       E9.5       15159.0               3925       0.864173   \n",
       "209_90-0       E9.5       15711.0               4024       0.668322   \n",
       "...             ...           ...                ...            ...   \n",
       "679_180-7     E16.5        6986.0               2124       0.844546   \n",
       "679_181-7     E16.5        6461.0               2063       0.665532   \n",
       "679_182-7     E16.5        7860.0               2265       0.725191   \n",
       "679_183-7     E16.5        7732.0               2172       1.138127   \n",
       "679_184-7     E16.5        8195.0               2091       0.695546   \n",
       "\n",
       "          leiden_test  \n",
       "209_102-0          22  \n",
       "209_87-0           22  \n",
       "209_88-0           22  \n",
       "209_89-0           22  \n",
       "209_90-0           22  \n",
       "...               ...  \n",
       "679_180-7          11  \n",
       "679_181-7          11  \n",
       "679_182-7          11  \n",
       "679_183-7          11  \n",
       "679_184-7          11  \n",
       "\n",
       "[9092 rows x 9 columns]"
      ]
     },
     "execution_count": 7,
     "metadata": {},
     "output_type": "execute_result"
    }
   ],
   "source": [
    "data.adata.obs"
   ]
  },
  {
   "attachments": {},
   "cell_type": "markdown",
   "id": "955e82d4",
   "metadata": {},
   "source": [
    "Plot the results of UMAP."
   ]
  },
  {
   "cell_type": "code",
   "execution_count": 8,
   "id": "1008fd5d",
   "metadata": {},
   "outputs": [
    {
     "data": {},
     "metadata": {},
     "output_type": "display_data"
    },
    {
     "data": {
      "application/vnd.holoviews_exec.v0+json": "",
      "text/html": [
       "<div id='1002'>\n",
       "  <div class=\"bk-root\" id=\"2cf74622-636a-4385-ac9a-f8b14cea2ed8\" data-root-id=\"1002\"></div>\n",
       "</div>\n",
       "<script type=\"application/javascript\">(function(root) {\n",
       "  function embed_document(root) {\n",
       "    var docs_json = {\"5ba66451-475a-4e48-b8e7-dcfe8264918b\":{\"defs\":[{\"extends\":null,\"module\":null,\"name\":\"ReactiveHTML1\",\"overrides\":[],\"properties\":[]},{\"extends\":null,\"module\":null,\"name\":\"FlexBox1\",\"overrides\":[],\"properties\":[{\"default\":\"flex-start\",\"kind\":null,\"name\":\"align_content\"},{\"default\":\"flex-start\",\"kind\":null,\"name\":\"align_items\"},{\"default\":\"row\",\"kind\":null,\"name\":\"flex_direction\"},{\"default\":\"wrap\",\"kind\":null,\"name\":\"flex_wrap\"},{\"default\":\"flex-start\",\"kind\":null,\"name\":\"justify_content\"}]},{\"extends\":null,\"module\":null,\"name\":\"GridStack1\",\"overrides\":[],\"properties\":[{\"default\":\"warn\",\"kind\":null,\"name\":\"mode\"},{\"default\":null,\"kind\":null,\"name\":\"ncols\"},{\"default\":null,\"kind\":null,\"name\":\"nrows\"},{\"default\":true,\"kind\":null,\"name\":\"allow_resize\"},{\"default\":true,\"kind\":null,\"name\":\"allow_drag\"},{\"default\":[],\"kind\":null,\"name\":\"state\"}]},{\"extends\":null,\"module\":null,\"name\":\"click1\",\"overrides\":[],\"properties\":[{\"default\":\"\",\"kind\":null,\"name\":\"terminal_output\"},{\"default\":\"\",\"kind\":null,\"name\":\"debug_name\"},{\"default\":0,\"kind\":null,\"name\":\"clears\"}]},{\"extends\":null,\"module\":null,\"name\":\"NotificationAreaBase1\",\"overrides\":[],\"properties\":[{\"default\":\"bottom-right\",\"kind\":null,\"name\":\"position\"},{\"default\":0,\"kind\":null,\"name\":\"_clear\"}]},{\"extends\":null,\"module\":null,\"name\":\"NotificationArea1\",\"overrides\":[],\"properties\":[{\"default\":[],\"kind\":null,\"name\":\"notifications\"},{\"default\":\"bottom-right\",\"kind\":null,\"name\":\"position\"},{\"default\":0,\"kind\":null,\"name\":\"_clear\"},{\"default\":[{\"background\":\"#ffc107\",\"icon\":{\"className\":\"fas fa-exclamation-triangle\",\"color\":\"white\",\"tagName\":\"i\"},\"type\":\"warning\"},{\"background\":\"#007bff\",\"icon\":{\"className\":\"fas fa-info-circle\",\"color\":\"white\",\"tagName\":\"i\"},\"type\":\"info\"}],\"kind\":null,\"name\":\"types\"}]},{\"extends\":null,\"module\":null,\"name\":\"Notification\",\"overrides\":[],\"properties\":[{\"default\":null,\"kind\":null,\"name\":\"background\"},{\"default\":3000,\"kind\":null,\"name\":\"duration\"},{\"default\":null,\"kind\":null,\"name\":\"icon\"},{\"default\":\"\",\"kind\":null,\"name\":\"message\"},{\"default\":null,\"kind\":null,\"name\":\"notification_type\"},{\"default\":false,\"kind\":null,\"name\":\"_destroyed\"}]},{\"extends\":null,\"module\":null,\"name\":\"TemplateActions1\",\"overrides\":[],\"properties\":[{\"default\":0,\"kind\":null,\"name\":\"open_modal\"},{\"default\":0,\"kind\":null,\"name\":\"close_modal\"}]},{\"extends\":null,\"module\":null,\"name\":\"MaterialTemplateActions1\",\"overrides\":[],\"properties\":[{\"default\":0,\"kind\":null,\"name\":\"open_modal\"},{\"default\":0,\"kind\":null,\"name\":\"close_modal\"}]}],\"roots\":{\"references\":[{\"attributes\":{\"css_classes\":[\"markdown\"],\"margin\":[5,5,5,5],\"name\":\"Markdown01572\",\"text\":\"&lt;p&gt;&lt;font size=&quot;3&quot;&gt;&lt;br&gt;Exporting the plot.&lt;/br&gt;&lt;/font&gt;&lt;/p&gt;\"},\"id\":\"1003\",\"type\":\"panel.models.markup.HTML\"},{\"attributes\":{\"margin\":[5,10,5,10],\"min_width\":60,\"options\":[\"png\",\"pdf\"],\"title\":\"file format\",\"value\":\"png\",\"width\":60},\"id\":\"1006\",\"type\":\"panel.models.widgets.CustomSelect\"},{\"attributes\":{\"margin\":[5,10,5,10],\"max_length\":5000,\"min_width\":200,\"placeholder\":\"Enter a file name...\",\"title\":\"file name\",\"width\":200},\"id\":\"1005\",\"type\":\"TextInput\"},{\"attributes\":{\"margin\":[5,10,5,10],\"name\":\"\",\"width\":800},\"id\":\"1010\",\"type\":\"Div\"},{\"attributes\":{\"client_comm_id\":\"a575d64077224ea88ee52eca8c3d7f9f\",\"comm_id\":\"c56ef7f436514a64887cab8103a82d83\",\"plot_id\":\"1002\"},\"id\":\"1011\",\"type\":\"panel.models.comm_manager.CommManager\"},{\"attributes\":{\"children\":[{\"id\":\"1005\"},{\"id\":\"1006\"},{\"id\":\"1007\"}],\"margin\":[0,0,0,0],\"name\":\"Row01570\"},\"id\":\"1004\",\"type\":\"Row\"},{\"attributes\":{\"children\":[{\"id\":\"1009\"},{\"id\":\"1010\"}],\"margin\":[0,0,0,0],\"name\":\"Row01571\"},\"id\":\"1008\",\"type\":\"Row\"},{\"attributes\":{\"reload\":false},\"id\":\"1012\",\"type\":\"panel.models.location.Location\"},{\"attributes\":{\"low\":0,\"margin\":[5,10,5,10],\"min_width\":200,\"mode\":\"int\",\"placeholder\":\"Enter the dip...\",\"title\":\"dpi\",\"value\":100,\"value_throttled\":100,\"width\":200},\"id\":\"1007\",\"type\":\"Spinner\"},{\"attributes\":{\"children\":[{\"id\":\"1003\"},{\"id\":\"1004\"},{\"id\":\"1008\"}],\"margin\":[0,0,0,0],\"name\":\"Column01574\"},\"id\":\"1002\",\"type\":\"Column\"},{\"attributes\":{\"button_type\":\"primary\",\"icon\":null,\"label\":\"export\",\"margin\":[5,10,5,10],\"min_width\":100,\"subscribed_events\":[\"button_click\"],\"width\":100},\"id\":\"1009\",\"type\":\"Button\"}],\"root_ids\":[\"1002\",\"1011\",\"1012\"]},\"title\":\"Bokeh Application\",\"version\":\"2.4.3\"}};\n",
       "    var render_items = [{\"docid\":\"5ba66451-475a-4e48-b8e7-dcfe8264918b\",\"root_ids\":[\"1002\"],\"roots\":{\"1002\":\"2cf74622-636a-4385-ac9a-f8b14cea2ed8\"}}];\n",
       "    root.Bokeh.embed.embed_items_notebook(docs_json, render_items);\n",
       "  }\n",
       "  if (root.Bokeh !== undefined && root.Bokeh.Panel !== undefined) {\n",
       "    embed_document(root);\n",
       "  } else {\n",
       "    var attempts = 0;\n",
       "    var timer = setInterval(function(root) {\n",
       "      if (root.Bokeh !== undefined && root.Bokeh.Panel !== undefined) {\n",
       "        clearInterval(timer);\n",
       "        embed_document(root);\n",
       "      } else if (document.readyState == \"complete\") {\n",
       "        attempts++;\n",
       "        if (attempts > 200) {\n",
       "          clearInterval(timer);\n",
       "          console.log(\"Bokeh: ERROR: Unable to run BokehJS code because BokehJS library is missing\");\n",
       "        }\n",
       "      }\n",
       "    }, 25, root)\n",
       "  }\n",
       "})(window);</script>"
      ],
      "text/plain": [
       "Column\n",
       "    [0] Markdown(str)\n",
       "    [1] Row\n",
       "        [0] TextInput(name='file name', placeholder='Enter a file name...', width=200)\n",
       "        [1] Select(name='file format', options=['png', 'pdf'], value='png', width=60)\n",
       "        [2] IntInput(name='dpi', placeholder='Enter the dip...', start=0, value=100, width=200)\n",
       "    [2] Row\n",
       "        [0] Button(button_type='primary', name='export', width=100)\n",
       "        [1] StaticText(width=800)"
      ]
     },
     "execution_count": 8,
     "metadata": {
      "application/vnd.holoviews_exec.v0+json": {
       "id": "1002"
      }
     },
     "output_type": "execute_result"
    },
    {
     "data": {
      "image/png": "[encoded data removed]",
      "text/plain": [
       "<Figure size 700x700 with 1 Axes>"
      ]
     },
     "metadata": {},
     "output_type": "display_data"
    }
   ],
   "source": [
    "data.plt.umap(res_key='umap_test', cluster_key='leiden_test')"
   ]
  },
  {
   "attachments": {},
   "cell_type": "markdown",
   "id": "11bb872b",
   "metadata": {},
   "source": [
    "## Using result in `.h5ad`"
   ]
  },
  {
   "attachments": {},
   "cell_type": "markdown",
   "id": "075b8e16",
   "metadata": {},
   "source": [
    "By glancing at `data.adata`, we find `neighbors` in `.uns` are produced by other bioinformatical softwares. We can use it as input to Leiden clustering."
   ]
  },
  {
   "cell_type": "code",
   "execution_count": 9,
   "id": "72fc7b4b",
   "metadata": {},
   "outputs": [
    {
     "data": {
      "text/plain": [
       "AnnData object with n_obs × n_vars = 9092 × 10276\n",
       "    obs: 'annotation', 'celltype', 'class', 'leiden', 'timepoint', 'total_counts', 'n_genes_by_counts', 'pct_counts_mt', 'leiden_test'\n",
       "    var: 'fuzzy_C_result', 'greater_pvalue', 'less_pvalue', 'log1p_mean_counts', 'log1p_total_counts', 'logFC', 'n_cells', 'n_counts', 'mean_umi', 'means', 'dispersions', 'dispersions_norm', 'highly_variable'\n",
       "    uns: 'sn', 'highly_variable_genes', 'pca_test', 'neighbors_test', 'umap_test', 'leiden_test', 'gene_exp_leiden_test'\n",
       "    obsm: 'spatial', 'X_pca_test', 'X_umap_test'\n",
       "    obsp: 'neighbors_test_connectivities', 'neighbors_test_distances'"
      ]
     },
     "execution_count": 9,
     "metadata": {},
     "output_type": "execute_result"
    }
   ],
   "source": [
    "data.adata"
   ]
  },
  {
   "cell_type": "code",
   "execution_count": 10,
   "id": "c66ed834",
   "metadata": {},
   "outputs": [
    {
     "name": "stderr",
     "output_type": "stream",
     "text": [
      "[2023-11-14 16:46:30][Stereo][77692][MainThread][140240360204096][st_pipeline][37][INFO]: start to run leiden...\n",
      "[2023-11-14 16:46:31][Stereo][77692][MainThread][140240360204096][st_pipeline][40][INFO]: leiden end, consume time 1.1456s.\n"
     ]
    }
   ],
   "source": [
    "data.tl.leiden(neighbors_res_key='neighbors_test', res_key='leiden_new')"
   ]
  },
  {
   "cell_type": "code",
   "execution_count": 11,
   "id": "8de438a2",
   "metadata": {},
   "outputs": [
    {
     "data": {
      "text/html": [
       "<div>\n",
       "<style scoped>\n",
       "    .dataframe tbody tr th:only-of-type {\n",
       "        vertical-align: middle;\n",
       "    }\n",
       "\n",
       "    .dataframe tbody tr th {\n",
       "        vertical-align: top;\n",
       "    }\n",
       "\n",
       "    .dataframe thead th {\n",
       "        text-align: right;\n",
       "    }\n",
       "</style>\n",
       "<table border=\"1\" class=\"dataframe\">\n",
       "  <thead>\n",
       "    <tr style=\"text-align: right;\">\n",
       "      <th></th>\n",
       "      <th>annotation</th>\n",
       "      <th>celltype</th>\n",
       "      <th>class</th>\n",
       "      <th>leiden</th>\n",
       "      <th>timepoint</th>\n",
       "      <th>total_counts</th>\n",
       "      <th>n_genes_by_counts</th>\n",
       "      <th>pct_counts_mt</th>\n",
       "      <th>leiden_test</th>\n",
       "      <th>leiden_new</th>\n",
       "    </tr>\n",
       "  </thead>\n",
       "  <tbody>\n",
       "    <tr>\n",
       "      <th>209_102-0</th>\n",
       "      <td>Brain</td>\n",
       "      <td>RglDF12</td>\n",
       "      <td>Dorsal forebrain</td>\n",
       "      <td>7</td>\n",
       "      <td>E9.5</td>\n",
       "      <td>12112.0</td>\n",
       "      <td>3527</td>\n",
       "      <td>0.908190</td>\n",
       "      <td>22</td>\n",
       "      <td>22</td>\n",
       "    </tr>\n",
       "    <tr>\n",
       "      <th>209_87-0</th>\n",
       "      <td>Brain</td>\n",
       "      <td>RglDF12</td>\n",
       "      <td>Dorsal forebrain</td>\n",
       "      <td>7</td>\n",
       "      <td>E9.5</td>\n",
       "      <td>13954.0</td>\n",
       "      <td>3785</td>\n",
       "      <td>0.716640</td>\n",
       "      <td>22</td>\n",
       "      <td>22</td>\n",
       "    </tr>\n",
       "    <tr>\n",
       "      <th>209_88-0</th>\n",
       "      <td>Brain</td>\n",
       "      <td>RglDF12</td>\n",
       "      <td>Dorsal forebrain</td>\n",
       "      <td>7</td>\n",
       "      <td>E9.5</td>\n",
       "      <td>13810.0</td>\n",
       "      <td>3766</td>\n",
       "      <td>0.782042</td>\n",
       "      <td>22</td>\n",
       "      <td>22</td>\n",
       "    </tr>\n",
       "    <tr>\n",
       "      <th>209_89-0</th>\n",
       "      <td>Brain</td>\n",
       "      <td>RglDF12</td>\n",
       "      <td>Dorsal forebrain</td>\n",
       "      <td>7</td>\n",
       "      <td>E9.5</td>\n",
       "      <td>15159.0</td>\n",
       "      <td>3925</td>\n",
       "      <td>0.864173</td>\n",
       "      <td>22</td>\n",
       "      <td>22</td>\n",
       "    </tr>\n",
       "    <tr>\n",
       "      <th>209_90-0</th>\n",
       "      <td>Brain</td>\n",
       "      <td>RglDF12</td>\n",
       "      <td>Dorsal forebrain</td>\n",
       "      <td>7</td>\n",
       "      <td>E9.5</td>\n",
       "      <td>15711.0</td>\n",
       "      <td>4024</td>\n",
       "      <td>0.668322</td>\n",
       "      <td>22</td>\n",
       "      <td>22</td>\n",
       "    </tr>\n",
       "    <tr>\n",
       "      <th>...</th>\n",
       "      <td>...</td>\n",
       "      <td>...</td>\n",
       "      <td>...</td>\n",
       "      <td>...</td>\n",
       "      <td>...</td>\n",
       "      <td>...</td>\n",
       "      <td>...</td>\n",
       "      <td>...</td>\n",
       "      <td>...</td>\n",
       "      <td>...</td>\n",
       "    </tr>\n",
       "    <tr>\n",
       "      <th>679_180-7</th>\n",
       "      <td>Brain</td>\n",
       "      <td>Neur511</td>\n",
       "      <td>Cortical or hippocampal glutamatergic</td>\n",
       "      <td>3</td>\n",
       "      <td>E16.5</td>\n",
       "      <td>6986.0</td>\n",
       "      <td>2124</td>\n",
       "      <td>0.844546</td>\n",
       "      <td>11</td>\n",
       "      <td>11</td>\n",
       "    </tr>\n",
       "    <tr>\n",
       "      <th>679_181-7</th>\n",
       "      <td>Brain</td>\n",
       "      <td>Neur511</td>\n",
       "      <td>Cortical or hippocampal glutamatergic</td>\n",
       "      <td>3</td>\n",
       "      <td>E16.5</td>\n",
       "      <td>6461.0</td>\n",
       "      <td>2063</td>\n",
       "      <td>0.665532</td>\n",
       "      <td>11</td>\n",
       "      <td>11</td>\n",
       "    </tr>\n",
       "    <tr>\n",
       "      <th>679_182-7</th>\n",
       "      <td>Brain</td>\n",
       "      <td>Neur511</td>\n",
       "      <td>Cortical or hippocampal glutamatergic</td>\n",
       "      <td>3</td>\n",
       "      <td>E16.5</td>\n",
       "      <td>7860.0</td>\n",
       "      <td>2265</td>\n",
       "      <td>0.725191</td>\n",
       "      <td>11</td>\n",
       "      <td>11</td>\n",
       "    </tr>\n",
       "    <tr>\n",
       "      <th>679_183-7</th>\n",
       "      <td>Brain</td>\n",
       "      <td>Neur511</td>\n",
       "      <td>Cortical or hippocampal glutamatergic</td>\n",
       "      <td>3</td>\n",
       "      <td>E16.5</td>\n",
       "      <td>7732.0</td>\n",
       "      <td>2172</td>\n",
       "      <td>1.138127</td>\n",
       "      <td>11</td>\n",
       "      <td>11</td>\n",
       "    </tr>\n",
       "    <tr>\n",
       "      <th>679_184-7</th>\n",
       "      <td>Brain</td>\n",
       "      <td>Neur511</td>\n",
       "      <td>Cortical or hippocampal glutamatergic</td>\n",
       "      <td>3</td>\n",
       "      <td>E16.5</td>\n",
       "      <td>8195.0</td>\n",
       "      <td>2091</td>\n",
       "      <td>0.695546</td>\n",
       "      <td>11</td>\n",
       "      <td>11</td>\n",
       "    </tr>\n",
       "  </tbody>\n",
       "</table>\n",
       "<p>9092 rows × 10 columns</p>\n",
       "</div>"
      ],
      "text/plain": [
       "          annotation celltype                                  class leiden  \\\n",
       "209_102-0      Brain  RglDF12                       Dorsal forebrain      7   \n",
       "209_87-0       Brain  RglDF12                       Dorsal forebrain      7   \n",
       "209_88-0       Brain  RglDF12                       Dorsal forebrain      7   \n",
       "209_89-0       Brain  RglDF12                       Dorsal forebrain      7   \n",
       "209_90-0       Brain  RglDF12                       Dorsal forebrain      7   \n",
       "...              ...      ...                                    ...    ...   \n",
       "679_180-7      Brain  Neur511  Cortical or hippocampal glutamatergic      3   \n",
       "679_181-7      Brain  Neur511  Cortical or hippocampal glutamatergic      3   \n",
       "679_182-7      Brain  Neur511  Cortical or hippocampal glutamatergic      3   \n",
       "679_183-7      Brain  Neur511  Cortical or hippocampal glutamatergic      3   \n",
       "679_184-7      Brain  Neur511  Cortical or hippocampal glutamatergic      3   \n",
       "\n",
       "          timepoint  total_counts  n_genes_by_counts  pct_counts_mt  \\\n",
       "209_102-0      E9.5       12112.0               3527       0.908190   \n",
       "209_87-0       E9.5       13954.0               3785       0.716640   \n",
       "209_88-0       E9.5       13810.0               3766       0.782042   \n",
       "209_89-0       E9.5       15159.0               3925       0.864173   \n",
       "209_90-0       E9.5       15711.0               4024       0.668322   \n",
       "...             ...           ...                ...            ...   \n",
       "679_180-7     E16.5        6986.0               2124       0.844546   \n",
       "679_181-7     E16.5        6461.0               2063       0.665532   \n",
       "679_182-7     E16.5        7860.0               2265       0.725191   \n",
       "679_183-7     E16.5        7732.0               2172       1.138127   \n",
       "679_184-7     E16.5        8195.0               2091       0.695546   \n",
       "\n",
       "          leiden_test leiden_new  \n",
       "209_102-0          22         22  \n",
       "209_87-0           22         22  \n",
       "209_88-0           22         22  \n",
       "209_89-0           22         22  \n",
       "209_90-0           22         22  \n",
       "...               ...        ...  \n",
       "679_180-7          11         11  \n",
       "679_181-7          11         11  \n",
       "679_182-7          11         11  \n",
       "679_183-7          11         11  \n",
       "679_184-7          11         11  \n",
       "\n",
       "[9092 rows x 10 columns]"
      ]
     },
     "execution_count": 11,
     "metadata": {},
     "output_type": "execute_result"
    }
   ],
   "source": [
    "data.adata.obs"
   ]
  },
  {
   "attachments": {},
   "cell_type": "markdown",
   "id": "f921c9b4",
   "metadata": {},
   "source": [
    "## Writing to `.h5ad`"
   ]
  },
  {
   "attachments": {},
   "cell_type": "markdown",
   "id": "17a169e1",
   "metadata": {},
   "source": [
    "Use `AnnData`'s function `write_h5ad` to write `AnnBasedStereoExpData` to `.h5ad` file."
   ]
  },
  {
   "cell_type": "code",
   "execution_count": 12,
   "id": "90ff541b",
   "metadata": {},
   "outputs": [],
   "source": [
    "data.adata.write_h5ad('./SS200000135TL_D1.stereo.h5ad')"
   ]
  }
 ],
 "metadata": {
  "kernelspec": {
   "display_name": "Python 3 (ipykernel)",
   "language": "python",
   "name": "python3"
  },
  "language_info": {
   "codemirror_mode": {
    "name": "ipython",
    "version": 3
   },
   "file_extension": ".py",
   "mimetype": "text/x-python",
   "name": "python",
   "nbconvert_exporter": "python",
   "pygments_lexer": "ipython3",
   "version": "3.8.15"
  },
  "vscode": {
   "interpreter": {
    "hash": "70dbeb2a90198859cd91b6ea0f3adc73d66939fe301617b631d99dfc954c0323"
   }
  }
 },
 "nbformat": 4,
 "nbformat_minor": 5
}
