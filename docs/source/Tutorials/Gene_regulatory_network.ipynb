{
 "cells": [
  {
   "cell_type": "markdown",
   "id": "3bdce3fd",
   "metadata": {},
   "source": [
    "# Gene regulatory network\n",
    "\n",
    "This example show how to run the function of gene regulatory network on Stereopy. We use PySCENIC for gene regulatory network analysis. PySCENIC is a tool for inferring gene regulatory networks from single-cell transcriptomic data, and it requires the following input files: \n",
    "\n",
    "1. Single-cell transcriptomic data: The required input is a matrix of gene expression levels for each single cell. Each row represents a gene, and each column represents a single-cell transcriptome sample. The values in the matrix are typically gene expression levels, either in raw counts or normalized expression values.\n",
    "\n",
    "2. Transcription factor gene list: This is a text file containing a list of transcription factor gene names of interest. PySCENIC will use these genes to infer the transcription factor-gene regulatory network. It can be downloaded through the link:\n",
    "    [pySCENIC_TF_list](https://github.com/aertslab/pySCENIC/tree/master/resources) and\n",
    "    [TF_lists](https://resources.aertslab.org/cistarget/tf_lists/).\n",
    "\n",
    "3. Cis-regulatory annotation file for genes: This is an annotation file containing predicted enhancers and transcription factor binding sites for genes in their promoter regions. This file can typically be downloaded from public databases. It can be downloaded through the link:\n",
    "    [cisTarget databases](https://resources.aertslab.org/cistarget/databases/).\n",
    "    \n",
    "\n",
    "4. Gene co-expression network file: This is a file containing a gene co-expression network, which includes a list of co-expressed neighbor genes and their correlation coefficients for each gene. It can be downloaded through the link:\n",
    "    [Motif2TF annotations](https://resources.aertslab.org/cistarget/motif2tf/).\n",
    "\n"
   ]
  },
  {
   "cell_type": "markdown",
   "id": "ad67ec4e",
   "metadata": {},
   "source": [
    "## Reading data\n",
    "\n",
    "Firstly, download our [example data](https://pan.genomics.cn/ucdisk/s/BvIrye) and import Stereopy. We  use the spatial expression matrix of Bin200 of Stereo-Seq in the mouse olfactory brain for the use of **stereopy** tools for gene regulatory network analysis.\n"
   ]
  },
  {
   "cell_type": "code",
   "execution_count": null,
   "id": "09d83ca7",
   "metadata": {},
   "outputs": [],
   "source": [
    "import stereo as st\n",
    "import warnings\n",
    "warnings.filterwarnings('ignore')\n",
    "\n",
    "\n",
    "tfs_fn = r'D:\\xujunhao\\work\\stereopy\\grn\\test_mm_mgi_tfs.txt'\n",
    "database_fn = r'D:\\xujunhao\\work\\stereopy\\grn\\mm10_10kbp_up_10kbp_down_full_tx_v10_clust.genes_vs_motifs.rankings.feather'\n",
    "motif_anno_fn = r'D:\\xujunhao\\work\\stereopy\\grn\\motifs-v10nr_clust-nr.mgi-m0.001-o0.0.tbl'\n",
    "\n",
    "data_path = '../../data/SS200000135TL_D1/exon/SS200000135TL_D1.tissue.gef'\n"
   ]
  },
  {
   "cell_type": "markdown",
   "id": "5fd5c477",
   "metadata": {},
   "source": [
    "Load data to generate a StereoExpData object. **We recommend using raw gene expression matrices to infer gene regulation network.** If save is set to True in `data.tl.inference_regulatory_network`, the result of the gene regulation network will be output as *grn_output.loom*."
   ]
  },
  {
   "cell_type": "code",
   "execution_count": null,
   "id": "9487fff9",
   "metadata": {},
   "outputs": [],
   "source": [
    "data = st.io.read_gef(file_path=data_path, bin_size=50)\n",
    "\n",
    "# simply type the varibale to get related information\n",
    "data\n",
    "\n",
    "data.tl.raw_checkpoint()\n",
    "\n",
    "data.tl.inference_regulatory_network(database_fn, motif_anno_fn, tfs_fn, save=True)\n",
    "\n"
   ]
  },
  {
   "cell_type": "markdown",
   "id": "76cf6b31",
   "metadata": {},
   "source": [
    "We can view the results of the gene regulatory network in the `data.tl.result`"
   ]
  },
  {
   "cell_type": "code",
   "execution_count": null,
   "id": "c90173f7",
   "metadata": {},
   "outputs": [],
   "source": [
    "data.tl.result['inference_regulatory_network'].keys()"
   ]
  },
  {
   "cell_type": "code",
   "execution_count": null,
   "id": "5f6d76d2",
   "metadata": {},
   "outputs": [],
   "source": [
    "data.tl.result['inference_regulatory_network']['auc_matrix']"
   ]
  },
  {
   "cell_type": "code",
   "execution_count": null,
   "id": "e07713a8",
   "metadata": {},
   "outputs": [],
   "source": [
    "data.tl.result['inference_regulatory_network']['adjacencies']"
   ]
  },
  {
   "cell_type": "code",
   "execution_count": null,
   "id": "f6eae7fb",
   "metadata": {},
   "outputs": [],
   "source": [
    "data.tl.result['inference_regulatory_network']['regulons']"
   ]
  },
  {
   "cell_type": "markdown",
   "id": "05d63a65",
   "metadata": {},
   "source": [
    "`data.plt.auc_heatmap` shows the activity of regulon in each cell (compared to other genes in the cell, the ratio of the expressed gene in the characteristic gene)"
   ]
  },
  {
   "cell_type": "code",
   "execution_count": null,
   "id": "daddd9f4",
   "metadata": {},
   "outputs": [],
   "source": [
    "data.plt.auc_heatmap(ign_res_key='inference_regulatory_network',width=28,height=28)"
   ]
  },
  {
   "cell_type": "markdown",
   "id": "2be27352",
   "metadata": {},
   "source": [
    "We can look at the expression of regulon in space by using `data.plt.spatial_scatter_by_regulon`"
   ]
  },
  {
   "cell_type": "code",
   "execution_count": null,
   "id": "59497341",
   "metadata": {},
   "outputs": [],
   "source": [
    "data.plt.spatial_scatter_by_regulon(reg_name='Sp3', ign_res_key='inference_regulatory_network', dot_size=500)"
   ]
  },
  {
   "cell_type": "markdown",
   "id": "8228ca78",
   "metadata": {},
   "source": [
    "`data.plt.grn_dotplot` shows the expression of regulon in different celltypes. First of all, we need to cluster the data first, or give the cell classification."
   ]
  },
  {
   "cell_type": "code",
   "execution_count": null,
   "id": "73eea12f",
   "metadata": {},
   "outputs": [],
   "source": [
    "data.tl.pca(use_highly_genes=False, n_pcs=30, res_key='pca')\n",
    "data.tl.neighbors(pca_res_key='pca', n_pcs=30, res_key='neighbors')\n",
    "data.tl.leiden(neighbors_res_key='neighbors', res_key='leiden')\n",
    "\n",
    "data.plt.cluster_scatter(res_key='leiden')"
   ]
  },
  {
   "cell_type": "code",
   "execution_count": null,
   "id": "9782dc32",
   "metadata": {},
   "outputs": [],
   "source": [
    "data.plt.grn_dotplot(data.tl.result['leiden'],ign_res_key='inference_regulatory_network')"
   ]
  },
  {
   "cell_type": "markdown",
   "id": "2cec8d73",
   "metadata": {},
   "source": [
    "`data.plt.auc_heatmap_by_group` will first filter out the regulons with the highest expression of each category (top_n_feature), and then perform zcore processing to draw the activity of the regulons in each cell"
   ]
  },
  {
   "cell_type": "code",
   "execution_count": null,
   "id": "56fc2a3c",
   "metadata": {},
   "outputs": [],
   "source": [
    "data.plt.auc_heatmap_by_group(ign_res_key='inference_regulatory_network',celltype_res_key='leiden',top_n_feature=5)"
   ]
  }
 ],
 "metadata": {
  "kernelspec": {
   "display_name": "window38",
   "language": "python",
   "name": "window38"
  },
  "language_info": {
   "codemirror_mode": {
    "name": "ipython",
    "version": 3
   },
   "file_extension": ".py",
   "mimetype": "text/x-python",
   "name": "python",
   "nbconvert_exporter": "python",
   "pygments_lexer": "ipython3",
   "version": "3.8.15"
  }
 },
 "nbformat": 4,
 "nbformat_minor": 5
}
